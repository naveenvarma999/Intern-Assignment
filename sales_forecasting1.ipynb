{
 "cells": [
  {
   "cell_type": "code",
   "execution_count": 468,
   "id": "b8aa42e7-9036-46c4-92e9-c2e708fa1974",
   "metadata": {},
   "outputs": [],
   "source": [
    "import pandas as pd\n",
    "import numpy as np\n",
    "import warnings\n",
    "warnings.filterwarnings(\"ignore\")"
   ]
  },
  {
   "cell_type": "code",
   "execution_count": null,
   "id": "5c6b9a7a-7e03-48bc-adc1-9c26b0d3bc09",
   "metadata": {},
   "outputs": [],
   "source": []
  },
  {
   "cell_type": "markdown",
   "id": "b8f97f64-f819-48c6-aca2-b03fa7e7967e",
   "metadata": {},
   "source": [
    "### The code loads  datasets into Pandas DataFrames"
   ]
  },
  {
   "cell_type": "code",
   "execution_count": 472,
   "id": "8546c5dd-044f-44dc-8736-ba7eb535196e",
   "metadata": {},
   "outputs": [],
   "source": [
    "train_data = pd.read_csv(\"train.csv\")\n",
    "test_data = pd.read_csv(\"test.csv\")\n",
    "stores_data = pd.read_csv(\"stores.csv\")\n",
    "oil_data = pd.read_csv(\"oil.csv\")\n",
    "holidays_data = pd.read_csv(\"holidays_events.csv\")\n",
    "sample_submission_data = pd.read_csv(\"sample_submission.csv\")"
   ]
  },
  {
   "cell_type": "code",
   "execution_count": null,
   "id": "a09402a7-69a9-49f7-9841-166f18c2b1f7",
   "metadata": {},
   "outputs": [],
   "source": []
  },
  {
   "cell_type": "markdown",
   "id": "140e1c4e-59c5-4ac1-93d2-d6dc0daec822",
   "metadata": {},
   "source": [
    "###  Display the first few rows of each dataset"
   ]
  },
  {
   "cell_type": "code",
   "execution_count": 475,
   "id": "da77ab4a-e42d-4dd0-86e4-55d5df5282c4",
   "metadata": {},
   "outputs": [
    {
     "name": "stdout",
     "output_type": "stream",
     "text": [
      "Train Data:\n"
     ]
    },
    {
     "data": {
      "text/html": [
       "<div>\n",
       "<style scoped>\n",
       "    .dataframe tbody tr th:only-of-type {\n",
       "        vertical-align: middle;\n",
       "    }\n",
       "\n",
       "    .dataframe tbody tr th {\n",
       "        vertical-align: top;\n",
       "    }\n",
       "\n",
       "    .dataframe thead th {\n",
       "        text-align: right;\n",
       "    }\n",
       "</style>\n",
       "<table border=\"1\" class=\"dataframe\">\n",
       "  <thead>\n",
       "    <tr style=\"text-align: right;\">\n",
       "      <th></th>\n",
       "      <th>id</th>\n",
       "      <th>date</th>\n",
       "      <th>store_nbr</th>\n",
       "      <th>family</th>\n",
       "      <th>sales</th>\n",
       "      <th>onpromotion</th>\n",
       "    </tr>\n",
       "  </thead>\n",
       "  <tbody>\n",
       "    <tr>\n",
       "      <th>0</th>\n",
       "      <td>0</td>\n",
       "      <td>2013-01-01</td>\n",
       "      <td>1</td>\n",
       "      <td>AUTOMOTIVE</td>\n",
       "      <td>0.0</td>\n",
       "      <td>0</td>\n",
       "    </tr>\n",
       "    <tr>\n",
       "      <th>1</th>\n",
       "      <td>1</td>\n",
       "      <td>2013-01-01</td>\n",
       "      <td>1</td>\n",
       "      <td>BABY CARE</td>\n",
       "      <td>0.0</td>\n",
       "      <td>0</td>\n",
       "    </tr>\n",
       "    <tr>\n",
       "      <th>2</th>\n",
       "      <td>2</td>\n",
       "      <td>2013-01-01</td>\n",
       "      <td>1</td>\n",
       "      <td>BEAUTY</td>\n",
       "      <td>0.0</td>\n",
       "      <td>0</td>\n",
       "    </tr>\n",
       "    <tr>\n",
       "      <th>3</th>\n",
       "      <td>3</td>\n",
       "      <td>2013-01-01</td>\n",
       "      <td>1</td>\n",
       "      <td>BEVERAGES</td>\n",
       "      <td>0.0</td>\n",
       "      <td>0</td>\n",
       "    </tr>\n",
       "    <tr>\n",
       "      <th>4</th>\n",
       "      <td>4</td>\n",
       "      <td>2013-01-01</td>\n",
       "      <td>1</td>\n",
       "      <td>BOOKS</td>\n",
       "      <td>0.0</td>\n",
       "      <td>0</td>\n",
       "    </tr>\n",
       "  </tbody>\n",
       "</table>\n",
       "</div>"
      ],
      "text/plain": [
       "   id        date  store_nbr      family  sales  onpromotion\n",
       "0   0  2013-01-01          1  AUTOMOTIVE    0.0            0\n",
       "1   1  2013-01-01          1   BABY CARE    0.0            0\n",
       "2   2  2013-01-01          1      BEAUTY    0.0            0\n",
       "3   3  2013-01-01          1   BEVERAGES    0.0            0\n",
       "4   4  2013-01-01          1       BOOKS    0.0            0"
      ]
     },
     "metadata": {},
     "output_type": "display_data"
    }
   ],
   "source": [
    "print(\"Train Data:\")\n",
    "display(train_data.head())"
   ]
  },
  {
   "cell_type": "markdown",
   "id": "052f3a5d-b5e5-409b-809b-2c35c2c33d1e",
   "metadata": {},
   "source": [
    "**The train dataset contains historical sales data for various products across different stores, which is used to train a sales forecasting model.**\n",
    "\n",
    "**id** – **A unique identifier for each record.**\n",
    "\n",
    "**date** – **The date on which sales data was recorded.**\n",
    "\n",
    "**store_nbr** – **The store number where the sales happened.**\n",
    "\n",
    "**family** – **The category of the product (e.g., AUTOMOTIVE, BABY CARE, etc.).**\n",
    "\n",
    "**sales** – **The total sales (in units) for that product family on that date.**\n",
    "\n",
    "**onpromotion** – **The number of items in that product family that were on promotion that day.**"
   ]
  },
  {
   "cell_type": "code",
   "execution_count": null,
   "id": "6303d065-3b08-43d6-ac6d-41b14b2da5d2",
   "metadata": {},
   "outputs": [],
   "source": []
  },
  {
   "cell_type": "code",
   "execution_count": 478,
   "id": "41b81e7c-0c0a-43d5-8eb4-f21351b00504",
   "metadata": {},
   "outputs": [
    {
     "name": "stdout",
     "output_type": "stream",
     "text": [
      "Test Data:\n"
     ]
    },
    {
     "data": {
      "text/html": [
       "<div>\n",
       "<style scoped>\n",
       "    .dataframe tbody tr th:only-of-type {\n",
       "        vertical-align: middle;\n",
       "    }\n",
       "\n",
       "    .dataframe tbody tr th {\n",
       "        vertical-align: top;\n",
       "    }\n",
       "\n",
       "    .dataframe thead th {\n",
       "        text-align: right;\n",
       "    }\n",
       "</style>\n",
       "<table border=\"1\" class=\"dataframe\">\n",
       "  <thead>\n",
       "    <tr style=\"text-align: right;\">\n",
       "      <th></th>\n",
       "      <th>id</th>\n",
       "      <th>date</th>\n",
       "      <th>store_nbr</th>\n",
       "      <th>family</th>\n",
       "      <th>onpromotion</th>\n",
       "    </tr>\n",
       "  </thead>\n",
       "  <tbody>\n",
       "    <tr>\n",
       "      <th>0</th>\n",
       "      <td>3000888</td>\n",
       "      <td>2017-08-16</td>\n",
       "      <td>1</td>\n",
       "      <td>AUTOMOTIVE</td>\n",
       "      <td>0</td>\n",
       "    </tr>\n",
       "    <tr>\n",
       "      <th>1</th>\n",
       "      <td>3000889</td>\n",
       "      <td>2017-08-16</td>\n",
       "      <td>1</td>\n",
       "      <td>BABY CARE</td>\n",
       "      <td>0</td>\n",
       "    </tr>\n",
       "    <tr>\n",
       "      <th>2</th>\n",
       "      <td>3000890</td>\n",
       "      <td>2017-08-16</td>\n",
       "      <td>1</td>\n",
       "      <td>BEAUTY</td>\n",
       "      <td>2</td>\n",
       "    </tr>\n",
       "    <tr>\n",
       "      <th>3</th>\n",
       "      <td>3000891</td>\n",
       "      <td>2017-08-16</td>\n",
       "      <td>1</td>\n",
       "      <td>BEVERAGES</td>\n",
       "      <td>20</td>\n",
       "    </tr>\n",
       "    <tr>\n",
       "      <th>4</th>\n",
       "      <td>3000892</td>\n",
       "      <td>2017-08-16</td>\n",
       "      <td>1</td>\n",
       "      <td>BOOKS</td>\n",
       "      <td>0</td>\n",
       "    </tr>\n",
       "  </tbody>\n",
       "</table>\n",
       "</div>"
      ],
      "text/plain": [
       "        id        date  store_nbr      family  onpromotion\n",
       "0  3000888  2017-08-16          1  AUTOMOTIVE            0\n",
       "1  3000889  2017-08-16          1   BABY CARE            0\n",
       "2  3000890  2017-08-16          1      BEAUTY            2\n",
       "3  3000891  2017-08-16          1   BEVERAGES           20\n",
       "4  3000892  2017-08-16          1       BOOKS            0"
      ]
     },
     "metadata": {},
     "output_type": "display_data"
    }
   ],
   "source": [
    "print(\"Test Data:\")\n",
    "display(test_data.head())"
   ]
  },
  {
   "cell_type": "markdown",
   "id": "52e780f5-3871-4920-963c-7db8b80183f7",
   "metadata": {},
   "source": [
    "**The test dataset is used for making predictions. It has future dates where sales need to be predicted but does not include actual sales values (unlike the train dataset)**"
   ]
  },
  {
   "cell_type": "code",
   "execution_count": null,
   "id": "fa3b144e-f178-4d7b-bf7d-813808cbd837",
   "metadata": {},
   "outputs": [],
   "source": []
  },
  {
   "cell_type": "code",
   "execution_count": 481,
   "id": "7caf7055-e30b-463b-95d7-980e53cf2995",
   "metadata": {},
   "outputs": [
    {
     "name": "stdout",
     "output_type": "stream",
     "text": [
      "Stores Data:\n"
     ]
    },
    {
     "data": {
      "text/html": [
       "<div>\n",
       "<style scoped>\n",
       "    .dataframe tbody tr th:only-of-type {\n",
       "        vertical-align: middle;\n",
       "    }\n",
       "\n",
       "    .dataframe tbody tr th {\n",
       "        vertical-align: top;\n",
       "    }\n",
       "\n",
       "    .dataframe thead th {\n",
       "        text-align: right;\n",
       "    }\n",
       "</style>\n",
       "<table border=\"1\" class=\"dataframe\">\n",
       "  <thead>\n",
       "    <tr style=\"text-align: right;\">\n",
       "      <th></th>\n",
       "      <th>store_nbr</th>\n",
       "      <th>city</th>\n",
       "      <th>state</th>\n",
       "      <th>type</th>\n",
       "      <th>cluster</th>\n",
       "    </tr>\n",
       "  </thead>\n",
       "  <tbody>\n",
       "    <tr>\n",
       "      <th>0</th>\n",
       "      <td>1</td>\n",
       "      <td>Quito</td>\n",
       "      <td>Pichincha</td>\n",
       "      <td>D</td>\n",
       "      <td>13</td>\n",
       "    </tr>\n",
       "    <tr>\n",
       "      <th>1</th>\n",
       "      <td>2</td>\n",
       "      <td>Quito</td>\n",
       "      <td>Pichincha</td>\n",
       "      <td>D</td>\n",
       "      <td>13</td>\n",
       "    </tr>\n",
       "    <tr>\n",
       "      <th>2</th>\n",
       "      <td>3</td>\n",
       "      <td>Quito</td>\n",
       "      <td>Pichincha</td>\n",
       "      <td>D</td>\n",
       "      <td>8</td>\n",
       "    </tr>\n",
       "    <tr>\n",
       "      <th>3</th>\n",
       "      <td>4</td>\n",
       "      <td>Quito</td>\n",
       "      <td>Pichincha</td>\n",
       "      <td>D</td>\n",
       "      <td>9</td>\n",
       "    </tr>\n",
       "    <tr>\n",
       "      <th>4</th>\n",
       "      <td>5</td>\n",
       "      <td>Santo Domingo</td>\n",
       "      <td>Santo Domingo de los Tsachilas</td>\n",
       "      <td>D</td>\n",
       "      <td>4</td>\n",
       "    </tr>\n",
       "  </tbody>\n",
       "</table>\n",
       "</div>"
      ],
      "text/plain": [
       "   store_nbr           city                           state type  cluster\n",
       "0          1          Quito                       Pichincha    D       13\n",
       "1          2          Quito                       Pichincha    D       13\n",
       "2          3          Quito                       Pichincha    D        8\n",
       "3          4          Quito                       Pichincha    D        9\n",
       "4          5  Santo Domingo  Santo Domingo de los Tsachilas    D        4"
      ]
     },
     "metadata": {},
     "output_type": "display_data"
    }
   ],
   "source": [
    "print(\"Stores Data:\")\n",
    "display(stores_data.head())"
   ]
  },
  {
   "cell_type": "markdown",
   "id": "cfc1f4da-8a82-42b7-b010-71d87bed50bc",
   "metadata": {},
   "source": [
    "**The stores dataset provides details about each store, such as its location and type. This information helps in understanding store-specific factors that might influence sales**.\n",
    "\n",
    "**store_nbr – A unique number assigned to each store.**\n",
    "\n",
    "**city – The city where the store is located.**\n",
    "\n",
    "**state – The state or region of the store.**\n",
    "\n",
    "**type – The type of store (e.g., A, B, C, D), which may indicate size, format, or target customers.**\n",
    "\n",
    "**cluster – The cluster groups stores with similar sales patterns and customer behavior..**"
   ]
  },
  {
   "cell_type": "code",
   "execution_count": null,
   "id": "477dc4ee-737d-44d0-897f-81e194e123f8",
   "metadata": {},
   "outputs": [],
   "source": []
  },
  {
   "cell_type": "code",
   "execution_count": 484,
   "id": "48f7f0f2-7d7f-4fe9-b3b5-9f0b35420c62",
   "metadata": {},
   "outputs": [
    {
     "name": "stdout",
     "output_type": "stream",
     "text": [
      "Oil Prices Data:\n"
     ]
    },
    {
     "data": {
      "text/html": [
       "<div>\n",
       "<style scoped>\n",
       "    .dataframe tbody tr th:only-of-type {\n",
       "        vertical-align: middle;\n",
       "    }\n",
       "\n",
       "    .dataframe tbody tr th {\n",
       "        vertical-align: top;\n",
       "    }\n",
       "\n",
       "    .dataframe thead th {\n",
       "        text-align: right;\n",
       "    }\n",
       "</style>\n",
       "<table border=\"1\" class=\"dataframe\">\n",
       "  <thead>\n",
       "    <tr style=\"text-align: right;\">\n",
       "      <th></th>\n",
       "      <th>date</th>\n",
       "      <th>dcoilwtico</th>\n",
       "    </tr>\n",
       "  </thead>\n",
       "  <tbody>\n",
       "    <tr>\n",
       "      <th>0</th>\n",
       "      <td>2013-01-01</td>\n",
       "      <td>NaN</td>\n",
       "    </tr>\n",
       "    <tr>\n",
       "      <th>1</th>\n",
       "      <td>2013-01-02</td>\n",
       "      <td>93.14</td>\n",
       "    </tr>\n",
       "    <tr>\n",
       "      <th>2</th>\n",
       "      <td>2013-01-03</td>\n",
       "      <td>92.97</td>\n",
       "    </tr>\n",
       "    <tr>\n",
       "      <th>3</th>\n",
       "      <td>2013-01-04</td>\n",
       "      <td>93.12</td>\n",
       "    </tr>\n",
       "    <tr>\n",
       "      <th>4</th>\n",
       "      <td>2013-01-07</td>\n",
       "      <td>93.20</td>\n",
       "    </tr>\n",
       "  </tbody>\n",
       "</table>\n",
       "</div>"
      ],
      "text/plain": [
       "         date  dcoilwtico\n",
       "0  2013-01-01         NaN\n",
       "1  2013-01-02       93.14\n",
       "2  2013-01-03       92.97\n",
       "3  2013-01-04       93.12\n",
       "4  2013-01-07       93.20"
      ]
     },
     "metadata": {},
     "output_type": "display_data"
    }
   ],
   "source": [
    "print(\"Oil Prices Data:\")\n",
    "display(oil_data.head())"
   ]
  },
  {
   "cell_type": "markdown",
   "id": "d4656ab3-c384-450c-8761-9896f9222146",
   "metadata": {},
   "source": [
    "**This dataset contains daily oil prices, which can impact the economy and influence sales.**\n",
    "\n",
    "**date – The date of the recorded oil price.**\n",
    "\n",
    "**dcoilwtico – The price of oil (West Texas Intermediate - WTI).**\n",
    "\n",
    "**Since oil prices affect transportation costs and product prices, they might indirectly influence sales trends. Some dates may have missing values (NaN), which need to be handled during analysis**"
   ]
  },
  {
   "cell_type": "code",
   "execution_count": null,
   "id": "e24e1e32-9236-4dbe-94b7-819cad8d5133",
   "metadata": {},
   "outputs": [],
   "source": []
  },
  {
   "cell_type": "code",
   "execution_count": 487,
   "id": "f7d36853-5e28-4874-b219-6c164bf97352",
   "metadata": {},
   "outputs": [
    {
     "name": "stdout",
     "output_type": "stream",
     "text": [
      "Holidays and Events Data:\n"
     ]
    },
    {
     "data": {
      "text/html": [
       "<div>\n",
       "<style scoped>\n",
       "    .dataframe tbody tr th:only-of-type {\n",
       "        vertical-align: middle;\n",
       "    }\n",
       "\n",
       "    .dataframe tbody tr th {\n",
       "        vertical-align: top;\n",
       "    }\n",
       "\n",
       "    .dataframe thead th {\n",
       "        text-align: right;\n",
       "    }\n",
       "</style>\n",
       "<table border=\"1\" class=\"dataframe\">\n",
       "  <thead>\n",
       "    <tr style=\"text-align: right;\">\n",
       "      <th></th>\n",
       "      <th>date</th>\n",
       "      <th>type</th>\n",
       "      <th>locale</th>\n",
       "      <th>locale_name</th>\n",
       "      <th>description</th>\n",
       "      <th>transferred</th>\n",
       "    </tr>\n",
       "  </thead>\n",
       "  <tbody>\n",
       "    <tr>\n",
       "      <th>0</th>\n",
       "      <td>2012-03-02</td>\n",
       "      <td>Holiday</td>\n",
       "      <td>Local</td>\n",
       "      <td>Manta</td>\n",
       "      <td>Fundacion de Manta</td>\n",
       "      <td>False</td>\n",
       "    </tr>\n",
       "    <tr>\n",
       "      <th>1</th>\n",
       "      <td>2012-04-01</td>\n",
       "      <td>Holiday</td>\n",
       "      <td>Regional</td>\n",
       "      <td>Cotopaxi</td>\n",
       "      <td>Provincializacion de Cotopaxi</td>\n",
       "      <td>False</td>\n",
       "    </tr>\n",
       "    <tr>\n",
       "      <th>2</th>\n",
       "      <td>2012-04-12</td>\n",
       "      <td>Holiday</td>\n",
       "      <td>Local</td>\n",
       "      <td>Cuenca</td>\n",
       "      <td>Fundacion de Cuenca</td>\n",
       "      <td>False</td>\n",
       "    </tr>\n",
       "    <tr>\n",
       "      <th>3</th>\n",
       "      <td>2012-04-14</td>\n",
       "      <td>Holiday</td>\n",
       "      <td>Local</td>\n",
       "      <td>Libertad</td>\n",
       "      <td>Cantonizacion de Libertad</td>\n",
       "      <td>False</td>\n",
       "    </tr>\n",
       "    <tr>\n",
       "      <th>4</th>\n",
       "      <td>2012-04-21</td>\n",
       "      <td>Holiday</td>\n",
       "      <td>Local</td>\n",
       "      <td>Riobamba</td>\n",
       "      <td>Cantonizacion de Riobamba</td>\n",
       "      <td>False</td>\n",
       "    </tr>\n",
       "  </tbody>\n",
       "</table>\n",
       "</div>"
      ],
      "text/plain": [
       "         date     type    locale locale_name                    description  \\\n",
       "0  2012-03-02  Holiday     Local       Manta             Fundacion de Manta   \n",
       "1  2012-04-01  Holiday  Regional    Cotopaxi  Provincializacion de Cotopaxi   \n",
       "2  2012-04-12  Holiday     Local      Cuenca            Fundacion de Cuenca   \n",
       "3  2012-04-14  Holiday     Local    Libertad      Cantonizacion de Libertad   \n",
       "4  2012-04-21  Holiday     Local    Riobamba      Cantonizacion de Riobamba   \n",
       "\n",
       "   transferred  \n",
       "0        False  \n",
       "1        False  \n",
       "2        False  \n",
       "3        False  \n",
       "4        False  "
      ]
     },
     "metadata": {},
     "output_type": "display_data"
    }
   ],
   "source": [
    "print(\"Holidays and Events Data:\")\n",
    "display(holidays_data.head())"
   ]
  },
  {
   "cell_type": "markdown",
   "id": "92f5a50f-e67b-470b-a590-3850c1adc9a1",
   "metadata": {},
   "source": [
    "**This dataset lists holidays and special events that might impact store sales.**\n",
    "\n",
    "**date – The date of the holiday or event.**\n",
    "\n",
    "**type – The type of event.**\n",
    "\n",
    "**locale – The level at which the holiday applies (National, Regional, or Local).**\n",
    "\n",
    "**locale_name – The specific region or city where the holiday is observed.**\n",
    "\n",
    "**description – The name or details of the holiday/event.**\n",
    "\n",
    "**transferred – True/False indicating if the holiday was moved to another date.**"
   ]
  },
  {
   "cell_type": "code",
   "execution_count": null,
   "id": "0db54e21-f601-4e52-9b75-7c7119a5012c",
   "metadata": {},
   "outputs": [],
   "source": []
  },
  {
   "cell_type": "code",
   "execution_count": 490,
   "id": "825beb2c-8c3f-46b4-97ef-a8c1d35aca0a",
   "metadata": {},
   "outputs": [
    {
     "name": "stdout",
     "output_type": "stream",
     "text": [
      "Sample Submission Data:\n"
     ]
    },
    {
     "data": {
      "text/html": [
       "<div>\n",
       "<style scoped>\n",
       "    .dataframe tbody tr th:only-of-type {\n",
       "        vertical-align: middle;\n",
       "    }\n",
       "\n",
       "    .dataframe tbody tr th {\n",
       "        vertical-align: top;\n",
       "    }\n",
       "\n",
       "    .dataframe thead th {\n",
       "        text-align: right;\n",
       "    }\n",
       "</style>\n",
       "<table border=\"1\" class=\"dataframe\">\n",
       "  <thead>\n",
       "    <tr style=\"text-align: right;\">\n",
       "      <th></th>\n",
       "      <th>id</th>\n",
       "      <th>sales</th>\n",
       "    </tr>\n",
       "  </thead>\n",
       "  <tbody>\n",
       "    <tr>\n",
       "      <th>0</th>\n",
       "      <td>3000888</td>\n",
       "      <td>0.0</td>\n",
       "    </tr>\n",
       "    <tr>\n",
       "      <th>1</th>\n",
       "      <td>3000889</td>\n",
       "      <td>0.0</td>\n",
       "    </tr>\n",
       "    <tr>\n",
       "      <th>2</th>\n",
       "      <td>3000890</td>\n",
       "      <td>0.0</td>\n",
       "    </tr>\n",
       "    <tr>\n",
       "      <th>3</th>\n",
       "      <td>3000891</td>\n",
       "      <td>0.0</td>\n",
       "    </tr>\n",
       "    <tr>\n",
       "      <th>4</th>\n",
       "      <td>3000892</td>\n",
       "      <td>0.0</td>\n",
       "    </tr>\n",
       "  </tbody>\n",
       "</table>\n",
       "</div>"
      ],
      "text/plain": [
       "        id  sales\n",
       "0  3000888    0.0\n",
       "1  3000889    0.0\n",
       "2  3000890    0.0\n",
       "3  3000891    0.0\n",
       "4  3000892    0.0"
      ]
     },
     "metadata": {},
     "output_type": "display_data"
    }
   ],
   "source": [
    "print(\"Sample Submission Data:\")\n",
    "display(sample_submission_data.head())"
   ]
  },
  {
   "cell_type": "code",
   "execution_count": null,
   "id": "9265fdb6-b5b0-40bf-ba6b-a193b3b59547",
   "metadata": {},
   "outputs": [],
   "source": []
  },
  {
   "cell_type": "markdown",
   "id": "30b229f4-c9f3-420a-a8bb-5d0e6ea0a33c",
   "metadata": {},
   "source": [
    "### To check the structure, missing values, and column types"
   ]
  },
  {
   "cell_type": "code",
   "execution_count": 493,
   "id": "67681e84-adb4-417a-ae01-f98c27d4df83",
   "metadata": {},
   "outputs": [
    {
     "name": "stdout",
     "output_type": "stream",
     "text": [
      "<class 'pandas.core.frame.DataFrame'>\n",
      "RangeIndex: 3000888 entries, 0 to 3000887\n",
      "Data columns (total 6 columns):\n",
      " #   Column       Dtype  \n",
      "---  ------       -----  \n",
      " 0   id           int64  \n",
      " 1   date         object \n",
      " 2   store_nbr    int64  \n",
      " 3   family       object \n",
      " 4   sales        float64\n",
      " 5   onpromotion  int64  \n",
      "dtypes: float64(1), int64(3), object(2)\n",
      "memory usage: 137.4+ MB\n"
     ]
    }
   ],
   "source": [
    "# To Check dataset information\n",
    "train_data.info()"
   ]
  },
  {
   "cell_type": "markdown",
   "id": "ed020c0f-d7ad-4eb8-b438-0f48751e1b36",
   "metadata": {},
   "source": [
    "**Total Rows: 3,000,888 (indicating a large dataset).**"
   ]
  },
  {
   "cell_type": "code",
   "execution_count": null,
   "id": "5fdacb47-4ac5-4d4b-a956-d22d1703125d",
   "metadata": {},
   "outputs": [],
   "source": []
  },
  {
   "cell_type": "code",
   "execution_count": 496,
   "id": "e078b5ee-cb89-4615-9c34-ed8c2f12c56f",
   "metadata": {},
   "outputs": [
    {
     "name": "stdout",
     "output_type": "stream",
     "text": [
      "<class 'pandas.core.frame.DataFrame'>\n",
      "RangeIndex: 28512 entries, 0 to 28511\n",
      "Data columns (total 5 columns):\n",
      " #   Column       Non-Null Count  Dtype \n",
      "---  ------       --------------  ----- \n",
      " 0   id           28512 non-null  int64 \n",
      " 1   date         28512 non-null  object\n",
      " 2   store_nbr    28512 non-null  int64 \n",
      " 3   family       28512 non-null  object\n",
      " 4   onpromotion  28512 non-null  int64 \n",
      "dtypes: int64(3), object(2)\n",
      "memory usage: 1.1+ MB\n"
     ]
    }
   ],
   "source": [
    "test_data.info()"
   ]
  },
  {
   "cell_type": "code",
   "execution_count": null,
   "id": "02fe65f6-ab70-4edc-adb6-680bcb045afa",
   "metadata": {},
   "outputs": [],
   "source": []
  },
  {
   "cell_type": "code",
   "execution_count": 498,
   "id": "24a7c3f1-289b-4031-b419-658f073172ad",
   "metadata": {},
   "outputs": [
    {
     "name": "stdout",
     "output_type": "stream",
     "text": [
      "<class 'pandas.core.frame.DataFrame'>\n",
      "RangeIndex: 54 entries, 0 to 53\n",
      "Data columns (total 5 columns):\n",
      " #   Column     Non-Null Count  Dtype \n",
      "---  ------     --------------  ----- \n",
      " 0   store_nbr  54 non-null     int64 \n",
      " 1   city       54 non-null     object\n",
      " 2   state      54 non-null     object\n",
      " 3   type       54 non-null     object\n",
      " 4   cluster    54 non-null     int64 \n",
      "dtypes: int64(2), object(3)\n",
      "memory usage: 2.2+ KB\n"
     ]
    }
   ],
   "source": [
    "stores_data.info()"
   ]
  },
  {
   "cell_type": "code",
   "execution_count": null,
   "id": "6288c291-59ab-43ee-a84c-b6ea74e6fa84",
   "metadata": {},
   "outputs": [],
   "source": []
  },
  {
   "cell_type": "code",
   "execution_count": 500,
   "id": "fc6869c4-5d49-42af-88ad-cda5d874ec28",
   "metadata": {},
   "outputs": [
    {
     "name": "stdout",
     "output_type": "stream",
     "text": [
      "<class 'pandas.core.frame.DataFrame'>\n",
      "RangeIndex: 1218 entries, 0 to 1217\n",
      "Data columns (total 2 columns):\n",
      " #   Column      Non-Null Count  Dtype  \n",
      "---  ------      --------------  -----  \n",
      " 0   date        1218 non-null   object \n",
      " 1   dcoilwtico  1175 non-null   float64\n",
      "dtypes: float64(1), object(1)\n",
      "memory usage: 19.2+ KB\n"
     ]
    }
   ],
   "source": [
    "oil_data.info()"
   ]
  },
  {
   "cell_type": "code",
   "execution_count": null,
   "id": "9c354139-aec6-4ec2-8e67-0e3f0d9da0ab",
   "metadata": {},
   "outputs": [],
   "source": []
  },
  {
   "cell_type": "code",
   "execution_count": 502,
   "id": "dfde2ddd-fd9e-4360-8554-8ade7b678800",
   "metadata": {},
   "outputs": [
    {
     "name": "stdout",
     "output_type": "stream",
     "text": [
      "<class 'pandas.core.frame.DataFrame'>\n",
      "RangeIndex: 350 entries, 0 to 349\n",
      "Data columns (total 6 columns):\n",
      " #   Column       Non-Null Count  Dtype \n",
      "---  ------       --------------  ----- \n",
      " 0   date         350 non-null    object\n",
      " 1   type         350 non-null    object\n",
      " 2   locale       350 non-null    object\n",
      " 3   locale_name  350 non-null    object\n",
      " 4   description  350 non-null    object\n",
      " 5   transferred  350 non-null    bool  \n",
      "dtypes: bool(1), object(5)\n",
      "memory usage: 14.1+ KB\n"
     ]
    }
   ],
   "source": [
    "holidays_data.info()"
   ]
  },
  {
   "cell_type": "code",
   "execution_count": 503,
   "id": "b8963cce-d313-4d07-8822-2f9b69c8371b",
   "metadata": {},
   "outputs": [
    {
     "name": "stdout",
     "output_type": "stream",
     "text": [
      "<class 'pandas.core.frame.DataFrame'>\n",
      "RangeIndex: 3000888 entries, 0 to 3000887\n",
      "Data columns (total 6 columns):\n",
      " #   Column       Dtype  \n",
      "---  ------       -----  \n",
      " 0   id           int64  \n",
      " 1   date         object \n",
      " 2   store_nbr    int64  \n",
      " 3   family       object \n",
      " 4   sales        float64\n",
      " 5   onpromotion  int64  \n",
      "dtypes: float64(1), int64(3), object(2)\n",
      "memory usage: 137.4+ MB\n",
      "<class 'pandas.core.frame.DataFrame'>\n",
      "RangeIndex: 28512 entries, 0 to 28511\n",
      "Data columns (total 5 columns):\n",
      " #   Column       Non-Null Count  Dtype \n",
      "---  ------       --------------  ----- \n",
      " 0   id           28512 non-null  int64 \n",
      " 1   date         28512 non-null  object\n",
      " 2   store_nbr    28512 non-null  int64 \n",
      " 3   family       28512 non-null  object\n",
      " 4   onpromotion  28512 non-null  int64 \n",
      "dtypes: int64(3), object(2)\n",
      "memory usage: 1.1+ MB\n",
      "<class 'pandas.core.frame.DataFrame'>\n",
      "RangeIndex: 54 entries, 0 to 53\n",
      "Data columns (total 5 columns):\n",
      " #   Column     Non-Null Count  Dtype \n",
      "---  ------     --------------  ----- \n",
      " 0   store_nbr  54 non-null     int64 \n",
      " 1   city       54 non-null     object\n",
      " 2   state      54 non-null     object\n",
      " 3   type       54 non-null     object\n",
      " 4   cluster    54 non-null     int64 \n",
      "dtypes: int64(2), object(3)\n",
      "memory usage: 2.2+ KB\n",
      "<class 'pandas.core.frame.DataFrame'>\n",
      "RangeIndex: 1218 entries, 0 to 1217\n",
      "Data columns (total 2 columns):\n",
      " #   Column      Non-Null Count  Dtype  \n",
      "---  ------      --------------  -----  \n",
      " 0   date        1218 non-null   object \n",
      " 1   dcoilwtico  1175 non-null   float64\n",
      "dtypes: float64(1), object(1)\n",
      "memory usage: 19.2+ KB\n",
      "<class 'pandas.core.frame.DataFrame'>\n",
      "RangeIndex: 350 entries, 0 to 349\n",
      "Data columns (total 6 columns):\n",
      " #   Column       Non-Null Count  Dtype \n",
      "---  ------       --------------  ----- \n",
      " 0   date         350 non-null    object\n",
      " 1   type         350 non-null    object\n",
      " 2   locale       350 non-null    object\n",
      " 3   locale_name  350 non-null    object\n",
      " 4   description  350 non-null    object\n",
      " 5   transferred  350 non-null    bool  \n",
      "dtypes: bool(1), object(5)\n",
      "memory usage: 14.1+ KB\n"
     ]
    }
   ],
   "source": [
    "# Check dataset information\n",
    "train_data.info()\n",
    "test_data.info()\n",
    "stores_data.info()\n",
    "oil_data.info()\n",
    "holidays_data.info()\n"
   ]
  },
  {
   "cell_type": "markdown",
   "id": "e92211cd-d35f-4065-90e5-f36ccce4ce8e",
   "metadata": {},
   "source": [
    "### Checking for missing values"
   ]
  },
  {
   "cell_type": "code",
   "execution_count": 505,
   "id": "3aa74306-825c-43aa-9602-ad2bfeb93efb",
   "metadata": {},
   "outputs": [
    {
     "data": {
      "text/plain": [
       "id             0\n",
       "date           0\n",
       "store_nbr      0\n",
       "family         0\n",
       "sales          0\n",
       "onpromotion    0\n",
       "dtype: int64"
      ]
     },
     "execution_count": 505,
     "metadata": {},
     "output_type": "execute_result"
    }
   ],
   "source": [
    "train_data.isnull().sum()"
   ]
  },
  {
   "cell_type": "code",
   "execution_count": null,
   "id": "85edf9c5-f643-4303-ad37-37392ae7c145",
   "metadata": {},
   "outputs": [],
   "source": []
  },
  {
   "cell_type": "code",
   "execution_count": 507,
   "id": "3f062a8f-cca9-4271-9c45-c6627a3178c9",
   "metadata": {},
   "outputs": [
    {
     "data": {
      "text/plain": [
       "id             0\n",
       "date           0\n",
       "store_nbr      0\n",
       "family         0\n",
       "sales          0\n",
       "onpromotion    0\n",
       "dtype: int64"
      ]
     },
     "execution_count": 507,
     "metadata": {},
     "output_type": "execute_result"
    }
   ],
   "source": [
    "train_data.isnull().sum()"
   ]
  },
  {
   "cell_type": "code",
   "execution_count": null,
   "id": "6cf37827-a1c8-4b43-961c-03ae658124cc",
   "metadata": {},
   "outputs": [],
   "source": []
  },
  {
   "cell_type": "code",
   "execution_count": 509,
   "id": "53465517-fb39-4749-ab06-aa125827dcca",
   "metadata": {},
   "outputs": [
    {
     "data": {
      "text/plain": [
       "store_nbr    0\n",
       "city         0\n",
       "state        0\n",
       "type         0\n",
       "cluster      0\n",
       "dtype: int64"
      ]
     },
     "execution_count": 509,
     "metadata": {},
     "output_type": "execute_result"
    }
   ],
   "source": [
    "stores_data.isnull().sum()"
   ]
  },
  {
   "cell_type": "code",
   "execution_count": null,
   "id": "39aa669f-4963-403a-a6fa-49bb3014743f",
   "metadata": {},
   "outputs": [],
   "source": []
  },
  {
   "cell_type": "code",
   "execution_count": 511,
   "id": "f1ab19a6-a3a1-49da-883b-220491aafcf2",
   "metadata": {},
   "outputs": [
    {
     "data": {
      "text/plain": [
       "date           0\n",
       "type           0\n",
       "locale         0\n",
       "locale_name    0\n",
       "description    0\n",
       "transferred    0\n",
       "dtype: int64"
      ]
     },
     "execution_count": 511,
     "metadata": {},
     "output_type": "execute_result"
    }
   ],
   "source": [
    "holidays_data.isnull().sum()"
   ]
  },
  {
   "cell_type": "code",
   "execution_count": null,
   "id": "0b5002c0-e9b1-43f5-b76b-e1092da9c610",
   "metadata": {},
   "outputs": [],
   "source": []
  },
  {
   "cell_type": "code",
   "execution_count": 513,
   "id": "aad9e4d3-5c1a-4682-af48-c41f5dab160a",
   "metadata": {},
   "outputs": [
    {
     "data": {
      "text/plain": [
       "date           0\n",
       "dcoilwtico    43\n",
       "dtype: int64"
      ]
     },
     "execution_count": 513,
     "metadata": {},
     "output_type": "execute_result"
    }
   ],
   "source": [
    "oil_data.isnull().sum()"
   ]
  },
  {
   "cell_type": "markdown",
   "id": "611edd61-0bc1-4150-a6fe-11456653720c",
   "metadata": {},
   "source": [
    "**Missing values present only in oil data**"
   ]
  },
  {
   "cell_type": "code",
   "execution_count": null,
   "id": "b31e4a69-a8c7-4317-9e22-0892b5e7dc8c",
   "metadata": {},
   "outputs": [],
   "source": []
  },
  {
   "cell_type": "markdown",
   "id": "2f560d82-4011-4c61-b50c-8c006bb2f653",
   "metadata": {},
   "source": [
    "### Handling Missing values in oil data by using interpolation"
   ]
  },
  {
   "cell_type": "markdown",
   "id": "870cc345-14be-4ed8-b6db-e552b3636da7",
   "metadata": {},
   "source": [
    "**Interpolation works well for time-series data like oil prices because:**\n",
    "\n",
    "**Oil prices change gradually –** They don’t jump suddenly, so estimating missing values using nearby prices makes sense.\n",
    "\n",
    "**Smooth data flow –** Some prices are missing due to weekends or holidays, but we can still estimate them based on previous and next values.\n",
    "\n",
    "**More accurate than average –** Using the mean or median would ignore the natural trend of oil prices over time."
   ]
  },
  {
   "cell_type": "code",
   "execution_count": null,
   "id": "6012464a-6358-40e7-a2da-c51e20e183af",
   "metadata": {},
   "outputs": [],
   "source": []
  },
  {
   "cell_type": "code",
   "execution_count": 519,
   "id": "2d0c1e17-ada3-403f-9b7a-1315b81fc0fb",
   "metadata": {},
   "outputs": [],
   "source": [
    "oil_data[\"dcoilwtico\"] = oil_data[\"dcoilwtico\"].interpolate()"
   ]
  },
  {
   "cell_type": "code",
   "execution_count": 520,
   "id": "9954026c-4df5-4554-8795-d7ac6aa01370",
   "metadata": {},
   "outputs": [
    {
     "data": {
      "text/plain": [
       "date          0\n",
       "dcoilwtico    1\n",
       "dtype: int64"
      ]
     },
     "execution_count": 520,
     "metadata": {},
     "output_type": "execute_result"
    }
   ],
   "source": [
    "oil_data.isnull().sum()"
   ]
  },
  {
   "cell_type": "markdown",
   "id": "fe538288-e66b-46bc-bd9a-94a543c63e77",
   "metadata": {},
   "source": [
    "**Still having one missing value**"
   ]
  },
  {
   "cell_type": "code",
   "execution_count": null,
   "id": "0299d660-4539-44fe-a3ba-85c182fc1ecf",
   "metadata": {},
   "outputs": [],
   "source": []
  },
  {
   "cell_type": "markdown",
   "id": "cf3ca455-3ccf-4431-9313-4b7177410e5c",
   "metadata": {},
   "source": [
    "### Checking the Position of the Missing Value"
   ]
  },
  {
   "cell_type": "markdown",
   "id": "d9fcf423-5bc8-4066-b6b3-d4d10b14193f",
   "metadata": {},
   "source": [
    "**If the missing value is at the start or end , linear interpolation might not work,we have to try forward fill or backward fill,lets check**"
   ]
  },
  {
   "cell_type": "code",
   "execution_count": null,
   "id": "bf45875e-72a6-4c08-a99e-372d97f6ba62",
   "metadata": {},
   "outputs": [],
   "source": []
  },
  {
   "cell_type": "code",
   "execution_count": 526,
   "id": "ca688ad4-e170-44ab-8658-4743fc9f1b61",
   "metadata": {},
   "outputs": [
    {
     "name": "stdout",
     "output_type": "stream",
     "text": [
      "         date  dcoilwtico\n",
      "0  2013-01-01         NaN\n"
     ]
    }
   ],
   "source": [
    "print(oil_data[oil_data[\"dcoilwtico\"].isnull()])"
   ]
  },
  {
   "cell_type": "markdown",
   "id": "f6a66853-59a8-4a64-9dd5-c4b30ae07218",
   "metadata": {},
   "source": [
    "##### Yeah the missing value at the starting position"
   ]
  },
  {
   "cell_type": "code",
   "execution_count": 528,
   "id": "7adb0fd1-b533-4fd3-8412-419f562affa9",
   "metadata": {},
   "outputs": [],
   "source": [
    "oil_data[\"dcoilwtico\"] = oil_data[\"dcoilwtico\"].fillna(method='bfill')"
   ]
  },
  {
   "cell_type": "code",
   "execution_count": 529,
   "id": "063cd54a-cb52-4863-a9de-b6d4f3dc988f",
   "metadata": {},
   "outputs": [
    {
     "data": {
      "text/plain": [
       "date          0\n",
       "dcoilwtico    0\n",
       "dtype: int64"
      ]
     },
     "execution_count": 529,
     "metadata": {},
     "output_type": "execute_result"
    }
   ],
   "source": [
    "oil_data.isnull().sum()"
   ]
  },
  {
   "cell_type": "code",
   "execution_count": null,
   "id": "81ab30f6-099e-4252-b035-dd94d0852ab6",
   "metadata": {},
   "outputs": [],
   "source": []
  },
  {
   "cell_type": "markdown",
   "id": "e0908a07-0fc7-43f6-bbee-0a0bf5c82bb2",
   "metadata": {},
   "source": [
    "### Convert date columns to datetime format"
   ]
  },
  {
   "cell_type": "code",
   "execution_count": 532,
   "id": "46c8a842-43c2-461a-9388-319263a6be16",
   "metadata": {},
   "outputs": [],
   "source": [
    "train_data[\"date\"] = pd.to_datetime(train_data[\"date\"])\n",
    "test_data[\"date\"] = pd.to_datetime(test_data[\"date\"])\n",
    "oil_data[\"date\"] = pd.to_datetime(oil_data[\"date\"])\n",
    "holidays_data[\"date\"] = pd.to_datetime(holidays_data[\"date\"])"
   ]
  },
  {
   "cell_type": "code",
   "execution_count": null,
   "id": "6d53f701-2b02-4722-a47c-9879d6ccc88d",
   "metadata": {},
   "outputs": [],
   "source": []
  },
  {
   "cell_type": "code",
   "execution_count": 548,
   "id": "f3c5aaae-5b3d-47a1-bd30-41a2cc94bd6d",
   "metadata": {},
   "outputs": [
    {
     "name": "stdout",
     "output_type": "stream",
     "text": [
      "id                      int64\n",
      "date           datetime64[ns]\n",
      "store_nbr               int64\n",
      "family                 object\n",
      "sales                 float64\n",
      "onpromotion             int64\n",
      "dtype: object\n"
     ]
    }
   ],
   "source": [
    "print(train_data.dtypes)"
   ]
  },
  {
   "cell_type": "markdown",
   "id": "023705f0-636b-4d4f-9488-8b601008be4e",
   "metadata": {},
   "source": [
    "#### Now date column is stored as a datetime object instead of a string."
   ]
  },
  {
   "cell_type": "code",
   "execution_count": null,
   "id": "b34d9e41-4f98-4f39-9a89-2ffbbef6a213",
   "metadata": {},
   "outputs": [],
   "source": []
  },
  {
   "cell_type": "markdown",
   "id": "82537b93-980e-4c1c-a6d2-a3e5fdb94004",
   "metadata": {},
   "source": [
    "### Merging datasets"
   ]
  },
  {
   "cell_type": "code",
   "execution_count": 557,
   "id": "ed24672a-efe3-4311-b5d8-f33ae3f5cf23",
   "metadata": {},
   "outputs": [],
   "source": [
    "train_data = train_data.merge(stores_data, on=\"store_nbr\", how=\"left\")\n",
    "train_data = train_data.merge(oil_data, on=\"date\", how=\"left\")\n",
    "train_data = train_data.merge(holidays_data, on=\"date\", how=\"left\")"
   ]
  },
  {
   "cell_type": "code",
   "execution_count": null,
   "id": "ef767f38-8571-4556-8d4d-4bc1414bacac",
   "metadata": {},
   "outputs": [],
   "source": []
  },
  {
   "cell_type": "code",
   "execution_count": 559,
   "id": "8b848cef-3414-498d-ade7-5a6f2589febd",
   "metadata": {},
   "outputs": [],
   "source": [
    "test_data = test_data.merge(stores_data, on=\"store_nbr\", how=\"left\")\n",
    "test_data = test_data.merge(oil_data, on=\"date\", how=\"left\")\n",
    "test_data = test_data.merge(holidays_data, on=\"date\", how=\"left\")"
   ]
  },
  {
   "cell_type": "markdown",
   "id": "7357d62d-fac9-41b7-a399-23e94c9f950a",
   "metadata": {},
   "source": [
    "**This code merges additional information into both train and test datasets to improve sales forecasting.**\n",
    "\n",
    "**Merging store data (store_nbr) → Adds details about each store, like location and type.**\n",
    "\n",
    "**Merging oil price data (date) → Includes daily oil prices, which can impact the economy and sales.**\n",
    "\n",
    "**Merging holiday data (date) → Adds holiday and event details, as special occasions can affect sales.**\n",
    "\n",
    "**We do this for both train and test data to ensure the model learns patterns from past sales (train) and applies the same logic to predict future sales (test). It helps the model make better predictions by considering real-world factors that influence sales**"
   ]
  },
  {
   "cell_type": "code",
   "execution_count": null,
   "id": "2ad5d3d8-babf-40dd-be67-9f7bd76e3a7c",
   "metadata": {},
   "outputs": [],
   "source": []
  },
  {
   "cell_type": "code",
   "execution_count": 562,
   "id": "1db21a61-b39e-4ce2-885f-dc6552a18e5e",
   "metadata": {},
   "outputs": [
    {
     "name": "stdout",
     "output_type": "stream",
     "text": [
      "<class 'pandas.core.frame.DataFrame'>\n",
      "RangeIndex: 3054348 entries, 0 to 3054347\n",
      "Data columns (total 16 columns):\n",
      " #   Column       Dtype         \n",
      "---  ------       -----         \n",
      " 0   id           int64         \n",
      " 1   date         datetime64[ns]\n",
      " 2   store_nbr    int64         \n",
      " 3   family       object        \n",
      " 4   sales        float64       \n",
      " 5   onpromotion  int64         \n",
      " 6   city         object        \n",
      " 7   state        object        \n",
      " 8   type_x       object        \n",
      " 9   cluster      int64         \n",
      " 10  dcoilwtico   float64       \n",
      " 11  type_y       object        \n",
      " 12  locale       object        \n",
      " 13  locale_name  object        \n",
      " 14  description  object        \n",
      " 15  transferred  object        \n",
      "dtypes: datetime64[ns](1), float64(2), int64(4), object(9)\n",
      "memory usage: 372.8+ MB\n"
     ]
    }
   ],
   "source": [
    "train_data.info()"
   ]
  },
  {
   "cell_type": "code",
   "execution_count": null,
   "id": "ad308384-bd8e-410f-964d-a5e0469723d1",
   "metadata": {},
   "outputs": [],
   "source": []
  },
  {
   "cell_type": "code",
   "execution_count": 564,
   "id": "cc191c7b-97c3-4ce7-a221-eac96b88db88",
   "metadata": {},
   "outputs": [
    {
     "name": "stdout",
     "output_type": "stream",
     "text": [
      "<class 'pandas.core.frame.DataFrame'>\n",
      "RangeIndex: 28512 entries, 0 to 28511\n",
      "Data columns (total 15 columns):\n",
      " #   Column       Non-Null Count  Dtype         \n",
      "---  ------       --------------  -----         \n",
      " 0   id           28512 non-null  int64         \n",
      " 1   date         28512 non-null  datetime64[ns]\n",
      " 2   store_nbr    28512 non-null  int64         \n",
      " 3   family       28512 non-null  object        \n",
      " 4   onpromotion  28512 non-null  int64         \n",
      " 5   city         28512 non-null  object        \n",
      " 6   state        28512 non-null  object        \n",
      " 7   type_x       28512 non-null  object        \n",
      " 8   cluster      28512 non-null  int64         \n",
      " 9   dcoilwtico   21384 non-null  float64       \n",
      " 10  type_y       1782 non-null   object        \n",
      " 11  locale       1782 non-null   object        \n",
      " 12  locale_name  1782 non-null   object        \n",
      " 13  description  1782 non-null   object        \n",
      " 14  transferred  1782 non-null   object        \n",
      "dtypes: datetime64[ns](1), float64(1), int64(4), object(9)\n",
      "memory usage: 3.3+ MB\n"
     ]
    }
   ],
   "source": [
    "test_data.info()"
   ]
  },
  {
   "cell_type": "code",
   "execution_count": null,
   "id": "13e002b6-e7d5-4a7c-92df-5651d291187f",
   "metadata": {},
   "outputs": [],
   "source": []
  },
  {
   "cell_type": "markdown",
   "id": "629a3510-4b34-4f9c-b690-9cf875ba1a66",
   "metadata": {},
   "source": [
    "### Extracting year, month, day, day of the week, and whether it's a weekend or weekday."
   ]
  },
  {
   "cell_type": "code",
   "execution_count": 567,
   "id": "b7552ff2-ad77-47fd-a721-2bb4937c28fe",
   "metadata": {},
   "outputs": [],
   "source": [
    "train_data[\"year\"] = train_data[\"date\"].dt.year\n",
    "train_data[\"month\"] = train_data[\"date\"].dt.month\n",
    "train_data[\"day\"] = train_data[\"date\"].dt.day\n",
    "train_data[\"day_of_week\"] = train_data[\"date\"].dt.weekday  # Monday = 0, Sunday = 6\n",
    "train_data[\"is_weekend\"] = train_data[\"day_of_week\"].isin([5, 6]).astype(int)  # 1 if weekend, else 0"
   ]
  },
  {
   "cell_type": "code",
   "execution_count": 568,
   "id": "f2ea5f8c-7c13-4184-9f05-9e5da9561939",
   "metadata": {},
   "outputs": [
    {
     "name": "stdout",
     "output_type": "stream",
     "text": [
      "   id       date  store_nbr      family  sales  onpromotion   city      state  \\\n",
      "0   0 2013-01-01          1  AUTOMOTIVE    0.0            0  Quito  Pichincha   \n",
      "1   1 2013-01-01          1   BABY CARE    0.0            0  Quito  Pichincha   \n",
      "2   2 2013-01-01          1      BEAUTY    0.0            0  Quito  Pichincha   \n",
      "3   3 2013-01-01          1   BEVERAGES    0.0            0  Quito  Pichincha   \n",
      "4   4 2013-01-01          1       BOOKS    0.0            0  Quito  Pichincha   \n",
      "\n",
      "  type_x  cluster  ...   type_y    locale locale_name         description  \\\n",
      "0      D       13  ...  Holiday  National     Ecuador  Primer dia del ano   \n",
      "1      D       13  ...  Holiday  National     Ecuador  Primer dia del ano   \n",
      "2      D       13  ...  Holiday  National     Ecuador  Primer dia del ano   \n",
      "3      D       13  ...  Holiday  National     Ecuador  Primer dia del ano   \n",
      "4      D       13  ...  Holiday  National     Ecuador  Primer dia del ano   \n",
      "\n",
      "  transferred  year  month  day  day_of_week  is_weekend  \n",
      "0       False  2013      1    1            1           0  \n",
      "1       False  2013      1    1            1           0  \n",
      "2       False  2013      1    1            1           0  \n",
      "3       False  2013      1    1            1           0  \n",
      "4       False  2013      1    1            1           0  \n",
      "\n",
      "[5 rows x 21 columns]\n"
     ]
    }
   ],
   "source": [
    "print(train_data.head())"
   ]
  },
  {
   "cell_type": "markdown",
   "id": "a5392b92-64ff-485d-9602-88c82217643a",
   "metadata": {},
   "source": [
    "**This code helps the model understand time-based patterns in sales. By breaking down the date into year, month, day, and day of the week, we give the model a way to recognize trends like seasonality and weekly sales fluctuations. For example, sales might be higher in December due to holiday shopping, or lower on Mondays when fewer people shop.**\n",
    "\n",
    "**The is_weekend feature is important because weekends (Saturday and Sunday) often have different sales patterns compared to weekdays. Some products may sell more on weekends (like beverages or snacks), while others may see more demand on weekdays (like office supplies). By adding this feature, the model can better predict sales based on the day of the week.**\n",
    "\n",
    "**Without these time-based features, the model might struggle to capture these natural patterns, making the predictions less accurate.**"
   ]
  },
  {
   "cell_type": "code",
   "execution_count": null,
   "id": "70bb52e4-7ad1-42c0-872d-ad79d65f8bbb",
   "metadata": {},
   "outputs": [],
   "source": []
  },
  {
   "cell_type": "markdown",
   "id": "e21dda29-6669-44ac-938c-0cbd6aba44e9",
   "metadata": {},
   "source": [
    "## Lag Features"
   ]
  },
  {
   "cell_type": "code",
   "execution_count": 572,
   "id": "dd85ec23-f9d3-4f63-96d8-9e6975393598",
   "metadata": {},
   "outputs": [],
   "source": [
    "train_data[\"sales_ma_7\"] = train_data.groupby([\"store_nbr\", \"family\"])[\"sales\"].transform(lambda x: x.rolling(window=7).mean())\n",
    "train_data[\"sales_ma_30\"] = train_data.groupby([\"store_nbr\", \"family\"])[\"sales\"].transform(lambda x: x.rolling(window=30).mean())"
   ]
  },
  {
   "cell_type": "code",
   "execution_count": 573,
   "id": "f09165f9-dc5c-484f-80af-8100757757d4",
   "metadata": {},
   "outputs": [
    {
     "data": {
      "text/plain": [
       "<bound method NDFrame.describe of               id       date  store_nbr                      family     sales  \\\n",
       "0              0 2013-01-01          1                  AUTOMOTIVE     0.000   \n",
       "1              1 2013-01-01          1                   BABY CARE     0.000   \n",
       "2              2 2013-01-01          1                      BEAUTY     0.000   \n",
       "3              3 2013-01-01          1                   BEVERAGES     0.000   \n",
       "4              4 2013-01-01          1                       BOOKS     0.000   \n",
       "...          ...        ...        ...                         ...       ...   \n",
       "3054343  3000883 2017-08-15          9                     POULTRY   438.133   \n",
       "3054344  3000884 2017-08-15          9              PREPARED FOODS   154.553   \n",
       "3054345  3000885 2017-08-15          9                     PRODUCE  2419.729   \n",
       "3054346  3000886 2017-08-15          9  SCHOOL AND OFFICE SUPPLIES   121.000   \n",
       "3054347  3000887 2017-08-15          9                     SEAFOOD    16.000   \n",
       "\n",
       "         onpromotion   city      state type_x  cluster  ...  locale_name  \\\n",
       "0                  0  Quito  Pichincha      D       13  ...      Ecuador   \n",
       "1                  0  Quito  Pichincha      D       13  ...      Ecuador   \n",
       "2                  0  Quito  Pichincha      D       13  ...      Ecuador   \n",
       "3                  0  Quito  Pichincha      D       13  ...      Ecuador   \n",
       "4                  0  Quito  Pichincha      D       13  ...      Ecuador   \n",
       "...              ...    ...        ...    ...      ...  ...          ...   \n",
       "3054343            0  Quito  Pichincha      B        6  ...     Riobamba   \n",
       "3054344            1  Quito  Pichincha      B        6  ...     Riobamba   \n",
       "3054345          148  Quito  Pichincha      B        6  ...     Riobamba   \n",
       "3054346            8  Quito  Pichincha      B        6  ...     Riobamba   \n",
       "3054347            0  Quito  Pichincha      B        6  ...     Riobamba   \n",
       "\n",
       "                   description transferred  year month day  day_of_week  \\\n",
       "0           Primer dia del ano       False  2013     1   1            1   \n",
       "1           Primer dia del ano       False  2013     1   1            1   \n",
       "2           Primer dia del ano       False  2013     1   1            1   \n",
       "3           Primer dia del ano       False  2013     1   1            1   \n",
       "4           Primer dia del ano       False  2013     1   1            1   \n",
       "...                        ...         ...   ...   ...  ..          ...   \n",
       "3054343  Fundacion de Riobamba       False  2017     8  15            1   \n",
       "3054344  Fundacion de Riobamba       False  2017     8  15            1   \n",
       "3054345  Fundacion de Riobamba       False  2017     8  15            1   \n",
       "3054346  Fundacion de Riobamba       False  2017     8  15            1   \n",
       "3054347  Fundacion de Riobamba       False  2017     8  15            1   \n",
       "\n",
       "         is_weekend   sales_ma_7  sales_ma_30  \n",
       "0                 0          NaN          NaN  \n",
       "1                 0          NaN          NaN  \n",
       "2                 0          NaN          NaN  \n",
       "3                 0          NaN          NaN  \n",
       "4                 0          NaN          NaN  \n",
       "...             ...          ...          ...  \n",
       "3054343           0   381.083426   424.092999  \n",
       "3054344           0   121.605856   105.643566  \n",
       "3054345           0  1525.855714  1606.464100  \n",
       "3054346           0   144.571429    81.733333  \n",
       "3054347           0    17.948857    17.212267  \n",
       "\n",
       "[3054348 rows x 23 columns]>"
      ]
     },
     "execution_count": 573,
     "metadata": {},
     "output_type": "execute_result"
    }
   ],
   "source": [
    "train_data.describe"
   ]
  },
  {
   "cell_type": "code",
   "execution_count": null,
   "id": "3c45ca18-c7e3-444b-8270-0be35b2f0c94",
   "metadata": {},
   "outputs": [],
   "source": []
  },
  {
   "cell_type": "markdown",
   "id": "83e71d97-799f-4840-84e7-28679471942e",
   "metadata": {},
   "source": [
    "**This code helps the model remember what sales were like exactly a week ago (sales_lag_7) and a month ago (sales_lag_30). Why? Because shopping habits tend to follow patterns—like more grocery shopping on weekends or increased spending at the end of the month when people get paid.**\n",
    "\n",
    "**By adding these lagged sales as features, the model isn’t just making random guesses—it’s learning from past trends to make smarter predictions. It’s just like checking your previous month’s electricity bill to estimate this month’s cost—it makes forecasting much more accurate**"
   ]
  },
  {
   "cell_type": "code",
   "execution_count": null,
   "id": "a830dc51-1e5d-4ac1-8785-590fbff58b29",
   "metadata": {},
   "outputs": [],
   "source": []
  },
  {
   "cell_type": "markdown",
   "id": "7dbb063c-376f-41d3-b5b8-b4c9c34e8de4",
   "metadata": {},
   "source": [
    "## Rolling Statistics"
   ]
  },
  {
   "cell_type": "code",
   "execution_count": 578,
   "id": "f0f517aa-8d6b-4e72-9d40-a47b59872f20",
   "metadata": {},
   "outputs": [],
   "source": [
    "train_data[\"sales_ma_7\"] = train_data.groupby([\"store_nbr\", \"family\"])[\"sales\"].transform(lambda x: x.rolling(window=7).mean())\n",
    "train_data[\"sales_ma_30\"] = train_data.groupby([\"store_nbr\", \"family\"])[\"sales\"].transform(lambda x: x.rolling(window=30).mean())"
   ]
  },
  {
   "cell_type": "markdown",
   "id": "f3b64793-8ca5-411c-a8a6-d83f78f3f506",
   "metadata": {},
   "source": [
    "**This code takes sales data for each store and product category and smooths it out. It looks at the average sales over the past 7 days and 30 days, making it easier to see patterns. The 7-day average helps with weekly trends (like weekend spikes), while the 30-day average captures bigger seasonal changes. This way, the model gets a clearer picture of sales behavior instead of getting distracted by random daily ups and downs.**"
   ]
  },
  {
   "cell_type": "code",
   "execution_count": null,
   "id": "80862f12-0cf0-4acc-8741-7b595e35f827",
   "metadata": {},
   "outputs": [],
   "source": []
  },
  {
   "cell_type": "markdown",
   "id": "039f34d3-3b12-423b-9e00-3685a896d062",
   "metadata": {},
   "source": [
    "### Creating binary features indicating if a day is a holiday or near a holiday."
   ]
  },
  {
   "cell_type": "code",
   "execution_count": 588,
   "id": "e7423f78-ec34-48f0-bbe0-3bb728bfc995",
   "metadata": {},
   "outputs": [],
   "source": [
    "train_data[\"is_holiday\"] = train_data[\"description\"].notnull().astype(int)\n",
    "train_data[\"is_near_holiday\"] = train_data[\"is_holiday\"].shift(1, fill_value=0) | train_data[\"is_holiday\"].shift(-1, fill_value=0)"
   ]
  },
  {
   "cell_type": "code",
   "execution_count": 589,
   "id": "5642d184-75c0-4d75-97d9-356d07a46808",
   "metadata": {},
   "outputs": [
    {
     "name": "stdout",
     "output_type": "stream",
     "text": [
      "        date         description  is_holiday\n",
      "0 2013-01-01  Primer dia del ano           1\n",
      "1 2013-01-01  Primer dia del ano           1\n",
      "2 2013-01-01  Primer dia del ano           1\n",
      "3 2013-01-01  Primer dia del ano           1\n",
      "4 2013-01-01  Primer dia del ano           1\n",
      "5 2013-01-01  Primer dia del ano           1\n",
      "6 2013-01-01  Primer dia del ano           1\n",
      "7 2013-01-01  Primer dia del ano           1\n",
      "8 2013-01-01  Primer dia del ano           1\n",
      "9 2013-01-01  Primer dia del ano           1\n"
     ]
    }
   ],
   "source": [
    "print(train_data[[\"date\", \"description\", \"is_holiday\"]].head(10))"
   ]
  },
  {
   "cell_type": "code",
   "execution_count": null,
   "id": "59085f01-a66c-491a-b654-e38115387a93",
   "metadata": {},
   "outputs": [],
   "source": []
  },
  {
   "cell_type": "code",
   "execution_count": 591,
   "id": "45a639b0-8474-4103-9c1c-db2f35fa39b7",
   "metadata": {},
   "outputs": [
    {
     "name": "stdout",
     "output_type": "stream",
     "text": [
      "is_holiday\n",
      "0    2551824\n",
      "1     502524\n",
      "Name: count, dtype: int64\n"
     ]
    }
   ],
   "source": [
    "print(train_data[\"is_holiday\"].value_counts())"
   ]
  },
  {
   "cell_type": "code",
   "execution_count": null,
   "id": "27ce66b0-5126-419e-b723-38b3b2ecf3a0",
   "metadata": {},
   "outputs": [],
   "source": []
  },
  {
   "cell_type": "code",
   "execution_count": 593,
   "id": "fb09ba14-250d-4c10-abc0-a8350462954f",
   "metadata": {},
   "outputs": [
    {
     "name": "stdout",
     "output_type": "stream",
     "text": [
      "   id       date  store_nbr        family  sales  onpromotion   city  \\\n",
      "0   0 2013-01-01          1    AUTOMOTIVE    0.0            0  Quito   \n",
      "1   1 2013-01-01          1     BABY CARE    0.0            0  Quito   \n",
      "2   2 2013-01-01          1        BEAUTY    0.0            0  Quito   \n",
      "3   3 2013-01-01          1     BEVERAGES    0.0            0  Quito   \n",
      "4   4 2013-01-01          1         BOOKS    0.0            0  Quito   \n",
      "5   5 2013-01-01          1  BREAD/BAKERY    0.0            0  Quito   \n",
      "6   6 2013-01-01          1   CELEBRATION    0.0            0  Quito   \n",
      "7   7 2013-01-01          1      CLEANING    0.0            0  Quito   \n",
      "8   8 2013-01-01          1         DAIRY    0.0            0  Quito   \n",
      "9   9 2013-01-01          1          DELI    0.0            0  Quito   \n",
      "\n",
      "       state type_x  cluster  ...  transferred  year month day day_of_week  \\\n",
      "0  Pichincha      D       13  ...        False  2013     1   1           1   \n",
      "1  Pichincha      D       13  ...        False  2013     1   1           1   \n",
      "2  Pichincha      D       13  ...        False  2013     1   1           1   \n",
      "3  Pichincha      D       13  ...        False  2013     1   1           1   \n",
      "4  Pichincha      D       13  ...        False  2013     1   1           1   \n",
      "5  Pichincha      D       13  ...        False  2013     1   1           1   \n",
      "6  Pichincha      D       13  ...        False  2013     1   1           1   \n",
      "7  Pichincha      D       13  ...        False  2013     1   1           1   \n",
      "8  Pichincha      D       13  ...        False  2013     1   1           1   \n",
      "9  Pichincha      D       13  ...        False  2013     1   1           1   \n",
      "\n",
      "  is_weekend  sales_ma_7  sales_ma_30  is_holiday  is_near_holiday  \n",
      "0          0         NaN          NaN           1                1  \n",
      "1          0         NaN          NaN           1                1  \n",
      "2          0         NaN          NaN           1                1  \n",
      "3          0         NaN          NaN           1                1  \n",
      "4          0         NaN          NaN           1                1  \n",
      "5          0         NaN          NaN           1                1  \n",
      "6          0         NaN          NaN           1                1  \n",
      "7          0         NaN          NaN           1                1  \n",
      "8          0         NaN          NaN           1                1  \n",
      "9          0         NaN          NaN           1                1  \n",
      "\n",
      "[10 rows x 25 columns]\n"
     ]
    }
   ],
   "source": [
    "print(train_data[train_data[\"is_holiday\"] == 1].head(10))"
   ]
  },
  {
   "cell_type": "markdown",
   "id": "d3d19c2a-53bb-46da-8993-b2ef7affe3df",
   "metadata": {},
   "source": [
    "**This code helps the model understand the impact of holidays on sales. The first part creates a new column, \"is_holiday\", which marks whether a particular day is a holiday (1) or not (0). It does this by checking if there is a holiday description in the dataset. The second part, \"is_near_holiday\", checks if a holiday is just before or after the current day. It shifts the \"is_holiday\" column up and down by one row to see if the previous or next day is a holiday. If either is true, it marks that day as near a holiday (1). This is useful because sales often change not just on holidays but also around them—for example, people might shop more the day before a big holiday like Christmas or New Year’s.**"
   ]
  },
  {
   "cell_type": "code",
   "execution_count": null,
   "id": "9481ba09-6250-4b30-b47f-c868381100d8",
   "metadata": {},
   "outputs": [],
   "source": []
  },
  {
   "cell_type": "markdown",
   "id": "bd65d781-152b-4d42-9d35-953eb74cbef8",
   "metadata": {},
   "source": [
    "### Smoothing Oil Price Trends with Moving Averages"
   ]
  },
  {
   "cell_type": "code",
   "execution_count": 597,
   "id": "21c2d80c-56fb-4780-9a67-e10bf9abee57",
   "metadata": {},
   "outputs": [
    {
     "name": "stdout",
     "output_type": "stream",
     "text": [
      "3054348\n"
     ]
    }
   ],
   "source": [
    "print(train_data.shape[0])  # Total rows"
   ]
  },
  {
   "cell_type": "markdown",
   "id": "7fa86702-053e-4943-928b-875266578205",
   "metadata": {},
   "source": [
    "### Grouping Data by Date and Calculating the Average Oil Price"
   ]
  },
  {
   "cell_type": "code",
   "execution_count": 599,
   "id": "fa052efd-473d-4c7a-bc10-622903749ef0",
   "metadata": {},
   "outputs": [],
   "source": [
    "train_df = train_data.groupby(\"date\", as_index=False).agg({\"dcoilwtico\": \"mean\"})"
   ]
  },
  {
   "cell_type": "markdown",
   "id": "076227ba-cda9-409c-837a-66fe9079a59f",
   "metadata": {},
   "source": [
    "**This code is used to group the dataset by date and calculate the average oil price for each date. Sometimes, the dataset might have multiple entries for the same date, so we need to combine them into a single value. Taking the average ensures that we get a clean and representative value for each day. It helps in removing duplicate entries for the same date, ensures that the dataset is properly structured for analysis and visualization, and makes it easier to calculate trends and moving averages without duplicate values affecting the results. In simple terms, we are cleaning and organizing the data so we can work with it more efficiently.**"
   ]
  },
  {
   "cell_type": "code",
   "execution_count": null,
   "id": "93663f86-c20f-4bab-a8b2-74a0152bb485",
   "metadata": {},
   "outputs": [],
   "source": []
  },
  {
   "cell_type": "markdown",
   "id": "0a1f7f09-8489-4001-83c5-b3a34a34ad56",
   "metadata": {},
   "source": [
    "### Calculating 7-Day and 30-Day Moving Averages for Oil Prices"
   ]
  },
  {
   "cell_type": "code",
   "execution_count": 603,
   "id": "bfb724a6-87fb-4287-86f1-474a711f493d",
   "metadata": {},
   "outputs": [],
   "source": [
    "train_df[\"oil_price_ma_7\"] = train_df[\"dcoilwtico\"].rolling(window=7, min_periods=1).mean()\n",
    "train_df[\"oil_price_ma_30\"] = train_df[\"dcoilwtico\"].rolling(window=30, min_periods=1).mean()"
   ]
  },
  {
   "cell_type": "markdown",
   "id": "fd346b4c-047a-44fd-8012-890f4b566778",
   "metadata": {},
   "source": [
    "**This code is used to smooth out short-term fluctuations in oil prices by calculating the 7-day and 30-day moving averages. The moving average helps to identify trends in the data by averaging the oil prices over a specific period. The 7-day moving average captures short-term trends, while the 30-day moving average gives a broader and more stable trend over a longer period.**\n",
    "\n",
    "**We use .rolling(window=7, min_periods=1).mean() to take the average of the last 7 days, and similarly, .rolling(window=30, min_periods=1).mean() for 30 days. The parameter min_periods=1 ensures that even for the first few days (when there aren’t enough past values), the calculation still works by taking the available values.**\n",
    "\n",
    "**This technique is useful for forecasting, trend analysis, and reducing noise in the data. Instead of looking at raw, fluctuating prices, moving averages give a clearer picture of price trends over time.**"
   ]
  },
  {
   "cell_type": "code",
   "execution_count": null,
   "id": "f827c999-6262-4ecb-949a-f0952780468f",
   "metadata": {},
   "outputs": [],
   "source": []
  },
  {
   "cell_type": "markdown",
   "id": "c84d38d4-16f0-461e-9041-a7de3076252a",
   "metadata": {},
   "source": [
    "**This code prints the first 10 rows of the dataset, specifically showing the date, original oil price (dcoilwtico), and the 7-day moving average (oil_price_ma_7). We use this to quickly check if the moving average has been calculated correctly and to ensure that the data looks as expected.**\n",
    "\n",
    "**By running .head(10), we can verify the first few values and see how the 7-day moving average smooths the oil price fluctuations. This helps in debugging and validating our calculations before moving forward with further analysis.**"
   ]
  },
  {
   "cell_type": "code",
   "execution_count": 607,
   "id": "f499d97c-5b88-4c69-b682-80ba9777693d",
   "metadata": {},
   "outputs": [
    {
     "name": "stdout",
     "output_type": "stream",
     "text": [
      "        date  dcoilwtico  oil_price_ma_7\n",
      "0 2013-01-01       93.14       93.140000\n",
      "1 2013-01-02       93.14       93.140000\n",
      "2 2013-01-03       92.97       93.083333\n",
      "3 2013-01-04       93.12       93.092500\n",
      "4 2013-01-05         NaN       93.092500\n",
      "5 2013-01-06         NaN       93.092500\n",
      "6 2013-01-07       93.20       93.114000\n",
      "7 2013-01-08       93.21       93.128000\n",
      "8 2013-01-09       93.08       93.116000\n",
      "9 2013-01-10       93.81       93.284000\n"
     ]
    }
   ],
   "source": [
    "print(train_df[[\"date\", \"dcoilwtico\", \"oil_price_ma_7\"]].head(10))"
   ]
  },
  {
   "cell_type": "code",
   "execution_count": 608,
   "id": "22f333ec-08c0-4d34-8120-bcfe628c76db",
   "metadata": {},
   "outputs": [],
   "source": [
    "train_df[\"dcoilwtico\"].fillna(method=\"ffill\", inplace=True)"
   ]
  },
  {
   "cell_type": "markdown",
   "id": "73a47907-f235-4ac4-939c-ab68cc375cb1",
   "metadata": {},
   "source": [
    "**This code fills any missing values in the dcoilwtico (oil price) column using the forward fill (ffill) method. This means that if a particular day's oil price is missing, it will be replaced with the last available price from a previous day.**\n",
    "\n",
    "**We use this because in time series data, missing values can cause issues in analysis and modeling. Since oil prices don’t change drastically within short periods, using the last known value is a reasonable way to handle gaps. This ensures that our data remains complete and consistent for further processing and predictions.**"
   ]
  },
  {
   "cell_type": "code",
   "execution_count": null,
   "id": "6eeea521-e374-458d-808f-4730af00f063",
   "metadata": {},
   "outputs": [],
   "source": []
  },
  {
   "cell_type": "code",
   "execution_count": 611,
   "id": "22b5360f-a479-4bf2-ab78-bb0b26e577b1",
   "metadata": {},
   "outputs": [],
   "source": [
    "train_df[\"oil_price_ma_7\"] = train_df[\"dcoilwtico\"].rolling(window=7, min_periods=1).mean()\n",
    "train_df[\"oil_price_ma_30\"] = train_df[\"dcoilwtico\"].rolling(window=30, min_periods=1).mean()"
   ]
  },
  {
   "cell_type": "code",
   "execution_count": 612,
   "id": "4f61d856-c4ae-4a46-8263-73e2ce88b1cc",
   "metadata": {},
   "outputs": [
    {
     "name": "stdout",
     "output_type": "stream",
     "text": [
      "        date  dcoilwtico  oil_price_ma_7  oil_price_ma_30\n",
      "0 2013-01-01       93.14       93.140000        93.140000\n",
      "1 2013-01-02       93.14       93.140000        93.140000\n",
      "2 2013-01-03       92.97       93.083333        93.083333\n",
      "3 2013-01-04       93.12       93.092500        93.092500\n",
      "4 2013-01-05       93.12       93.098000        93.098000\n",
      "5 2013-01-06       93.12       93.101667        93.101667\n",
      "6 2013-01-07       93.20       93.115714        93.115714\n",
      "7 2013-01-08       93.21       93.125714        93.127500\n",
      "8 2013-01-09       93.08       93.117143        93.122222\n",
      "9 2013-01-10       93.81       93.237143        93.191000\n"
     ]
    }
   ],
   "source": [
    "print(train_df.head(10))"
   ]
  },
  {
   "cell_type": "markdown",
   "id": "0d0177a4-294d-4866-a396-e49b0805b3b5",
   "metadata": {},
   "source": [
    "**From the table, we can see how the moving averages smooth out fluctuations in oil prices over time. The 7-day moving average reacts more quickly to changes, while the 30-day moving average updates more gradually, giving a more stable long-term trend. In the first few days, the oil price remains almost the same, so both moving averages are very close to the actual price. However, when the oil price increases on January 10, 2013, the 7-day average adjusts faster compared to the 30-day average, which takes more time to reflect the change. This shows how short-term trends influence recent price behavior, while longer averages help in identifying overall trends without being affected by sudden spikes.**"
   ]
  },
  {
   "cell_type": "code",
   "execution_count": null,
   "id": "903870b8-cf0a-4457-b002-f5a58dfdcef4",
   "metadata": {},
   "outputs": [],
   "source": []
  },
  {
   "cell_type": "code",
   "execution_count": 619,
   "id": "3f49fda4-e355-4be4-b38d-9f3b289de9f3",
   "metadata": {},
   "outputs": [
    {
     "data": {
      "image/png": "[encoded data removed]",
      "text/plain": [
       "<Figure size 1200x600 with 1 Axes>"
      ]
     },
     "metadata": {},
     "output_type": "display_data"
    }
   ],
   "source": [
    "import matplotlib.pyplot as plt\n",
    "\n",
    "plt.figure(figsize=(12, 6))\n",
    "plt.plot(train_df[\"date\"], train_df[\"dcoilwtico\"], label=\"Original Oil Price\", alpha=0.5)\n",
    "plt.plot(train_df[\"date\"], train_df[\"oil_price_ma_7\"], label=\"7-Day MA\", color=\"orange\")\n",
    "plt.plot(train_df[\"date\"], train_df[\"oil_price_ma_30\"], label=\"30-Day MA\", color=\"green\")\n",
    "plt.xlabel(\"Date\")\n",
    "plt.ylabel(\"Oil Price\")\n",
    "plt.title(\"Oil Price Moving Averages\")\n",
    "plt.legend()\n",
    "plt.show()"
   ]
  },
  {
   "cell_type": "code",
   "execution_count": null,
   "id": "59cd0958-c9b2-4ff7-b092-e8ca0a9b6d28",
   "metadata": {},
   "outputs": [],
   "source": []
  },
  {
   "cell_type": "markdown",
   "id": "a13854aa-6313-45d5-8bf4-b3a160d0e0cc",
   "metadata": {},
   "source": [
    "### Sales Trend Over Time"
   ]
  },
  {
   "cell_type": "code",
   "execution_count": 624,
   "id": "15d9fbb6-9141-49aa-892a-a478e8224f86",
   "metadata": {},
   "outputs": [
    {
     "data": {
      "image/png": "[encoded data removed]",
      "text/plain": [
       "<Figure size 1200x500 with 1 Axes>"
      ]
     },
     "metadata": {},
     "output_type": "display_data"
    }
   ],
   "source": [
    "import matplotlib.pyplot as plt\n",
    "\n",
    "# Aggregate sales by date\n",
    "sales_trend = train_data.groupby(\"date\")[\"sales\"].sum()\n",
    "\n",
    "# Plot sales trend\n",
    "plt.figure(figsize=(12, 5))\n",
    "plt.plot(sales_trend, label=\"Total Sales\", color=\"blue\")\n",
    "plt.xlabel(\"Date\")\n",
    "plt.ylabel(\"Sales\")\n",
    "plt.title(\"Sales Trend Over Time\")\n",
    "plt.legend()\n",
    "plt.show()"
   ]
  },
  {
   "cell_type": "markdown",
   "id": "133953f6-b88c-4cde-b7be-a040150e6c5e",
   "metadata": {},
   "source": [
    "**The graph shows how sales have changed over time from 2013 to 2017. Overall, sales are increasing, which is a good sign. However, there are a lot of ups and downs. Some days, sales suddenly spike, which could be due to special events, discounts, or seasonal demand. There are also some sharp drops, which might be caused by store closures, missing data, or other issues. While sales are growing, the frequent changes suggest that different factors, like promotions or competition, are affecting them.**"
   ]
  },
  {
   "cell_type": "code",
   "execution_count": null,
   "id": "2d968f7b-f04a-4d72-a628-d9b108d6cff9",
   "metadata": {},
   "outputs": [],
   "source": []
  },
  {
   "cell_type": "markdown",
   "id": "2f7a820a-96b5-44dc-b016-ad1953227fc9",
   "metadata": {},
   "source": [
    "### Seasonality Analysis (Monthly Sales)"
   ]
  },
  {
   "cell_type": "code",
   "execution_count": 628,
   "id": "c68b8fde-967a-4958-80e9-f46eaf0824b7",
   "metadata": {},
   "outputs": [
    {
     "data": {
      "image/png": "[encoded data removed]",
      "text/plain": [
       "<Figure size 1000x400 with 1 Axes>"
      ]
     },
     "metadata": {},
     "output_type": "display_data"
    }
   ],
   "source": [
    "# Aggregate sales by month\n",
    "train_data[\"month\"] = train_data[\"date\"].dt.month\n",
    "monthly_sales = train_data.groupby(\"month\")[\"sales\"].sum()\n",
    "\n",
    "# Plot monthly sales\n",
    "plt.figure(figsize=(10, 4))\n",
    "plt.bar(monthly_sales.index, monthly_sales.values, color=\"skyblue\")\n",
    "plt.xlabel(\"Month\")\n",
    "plt.ylabel(\"Sales\")\n",
    "plt.title(\"Monthly Sales Seasonality\")\n",
    "plt.xticks(range(1, 13))\n",
    "plt.show()"
   ]
  },
  {
   "cell_type": "markdown",
   "id": "fe0f2a7f-40e7-4e94-b8bd-0f8a9bb94e07",
   "metadata": {},
   "source": [
    "**The graph shows how sales vary across different months of the year. Sales are highest in July and December, which could be due to seasonal demand, holidays, or special events. February and September have the lowest sales, which might indicate a slow period for businesses. Other months show relatively stable sales with some fluctuations. This pattern suggests that sales are influenced by seasonal trends, and businesses can plan better by increasing stock or marketing efforts during peak months.**"
   ]
  },
  {
   "cell_type": "code",
   "execution_count": null,
   "id": "7ca1683e-e86d-4bd4-87f6-3ef9da8d7681",
   "metadata": {},
   "outputs": [],
   "source": []
  },
  {
   "cell_type": "markdown",
   "id": "f1ef4bad-6371-4a77-a9bf-fa6a64d5276e",
   "metadata": {},
   "source": [
    "### Sales by Store & Product Category"
   ]
  },
  {
   "cell_type": "code",
   "execution_count": 632,
   "id": "398c3279-5ebd-4994-8172-461397befa1a",
   "metadata": {},
   "outputs": [
    {
     "data": {
      "image/png": "[encoded data removed]",
      "text/plain": [
       "<Figure size 1000x400 with 1 Axes>"
      ]
     },
     "metadata": {},
     "output_type": "display_data"
    },
    {
     "data": {
      "image/png": "[encoded data removed]",
      "text/plain": [
       "<Figure size 1200x500 with 1 Axes>"
      ]
     },
     "metadata": {},
     "output_type": "display_data"
    }
   ],
   "source": [
    "# Top 10 stores by total sales\n",
    "top_stores = train_data.groupby(\"store_nbr\")[\"sales\"].sum().nlargest(10)\n",
    "\n",
    "plt.figure(figsize=(10, 4))\n",
    "top_stores.plot(kind=\"bar\", color=\"orange\")\n",
    "plt.xlabel(\"Store Number\")\n",
    "plt.ylabel(\"Total Sales\")\n",
    "plt.title(\"Top 10 Stores by Sales\")\n",
    "plt.show()\n",
    "\n",
    "# Sales by product category\n",
    "category_sales = train_data.groupby(\"family\")[\"sales\"].sum().sort_values(ascending=False)\n",
    "\n",
    "plt.figure(figsize=(12, 5))\n",
    "category_sales.plot(kind=\"bar\", color=\"purple\")\n",
    "plt.xlabel(\"Product Category\")\n",
    "plt.ylabel(\"Total Sales\")\n",
    "plt.title(\"Sales by Product Category\")\n",
    "plt.xticks(rotation=90)\n",
    "plt.show()"
   ]
  },
  {
   "cell_type": "markdown",
   "id": "ddc9c18e-6a19-424c-990c-b04bb9c072aa",
   "metadata": {},
   "source": [
    "**This bar chart shows the top 10 stores based on total sales. Store 44 has the highest sales, followed by stores 45 and 47. The sales gradually decrease as we move to the other stores, with store 50 having the lowest sales among the top 10. The difference in sales between the stores indicates that some locations perform significantly better than others, possibly due to factors like location, customer demand, or store size. Businesses can use this insight to analyze what makes the top stores successful and apply similar strategies to improve sales in other locations.**\n"
   ]
  },
  {
   "cell_type": "code",
   "execution_count": null,
   "id": "1a236919-83db-4007-81d2-28a512986185",
   "metadata": {},
   "outputs": [],
   "source": []
  },
  {
   "cell_type": "markdown",
   "id": "4a0832a8-4097-4f05-b298-72cc9981b4dd",
   "metadata": {},
   "source": [
    "### Relationship Between 30-Day Oil Price Moving Average and Sales"
   ]
  },
  {
   "cell_type": "code",
   "execution_count": 636,
   "id": "6d1ec249-1ee2-49cf-9cd7-3da86d7f843d",
   "metadata": {},
   "outputs": [
    {
     "data": {
      "image/png": "[encoded data removed]",
      "text/plain": [
       "<Figure size 1000x500 with 1 Axes>"
      ]
     },
     "metadata": {},
     "output_type": "display_data"
    }
   ],
   "source": [
    "# Aggregate sales by date (same granularity as train_df)\n",
    "sales_by_date = train_data.groupby(\"date\")[\"sales\"].sum().reset_index()\n",
    "\n",
    "# Merge with train_df\n",
    "merged_df = train_df.merge(sales_by_date, on=\"date\", how=\"left\")\n",
    "\n",
    "# Drop NaNs if any\n",
    "merged_df = merged_df.dropna()\n",
    "\n",
    "# Scatter plot\n",
    "plt.figure(figsize=(10, 5))\n",
    "plt.scatter(merged_df[\"oil_price_ma_30\"], merged_df[\"sales\"], alpha=0.5, color=\"red\")\n",
    "plt.xlabel(\"30-Day Moving Average of Oil Price\")\n",
    "plt.ylabel(\"Sales\")\n",
    "plt.title(\"Oil Price vs. Sales\")\n",
    "plt.show()"
   ]
  },
  {
   "cell_type": "markdown",
   "id": "4139854b-a7fa-4296-b727-4a7acf3fbf3e",
   "metadata": {},
   "source": [
    "**This scatter plot shows the relationship between oil prices and sales. The x-axis represents the 30-day moving average of oil prices, while the y-axis represents sales. The points are scattered across different oil price levels, suggesting that there is no strong or clear correlation between oil price changes and sales. However, there are clusters of sales data around certain price ranges, which might indicate some indirect influence. Businesses may need to analyze other factors, such as seasonal trends or external economic conditions, to understand the impact of oil prices on sales better.**\n"
   ]
  },
  {
   "cell_type": "code",
   "execution_count": null,
   "id": "82f7e93d-941f-4532-8ccc-1fc09483f654",
   "metadata": {},
   "outputs": [],
   "source": []
  },
  {
   "cell_type": "code",
   "execution_count": 639,
   "id": "83f46d19-c182-4fd8-8b51-ca62e4699837",
   "metadata": {},
   "outputs": [],
   "source": [
    "import seaborn as sns"
   ]
  },
  {
   "cell_type": "markdown",
   "id": "c3a0e84b-1df7-4e0b-a142-f710087addae",
   "metadata": {},
   "source": [
    "### Checks relationships between numerical variables."
   ]
  },
  {
   "cell_type": "code",
   "execution_count": 641,
   "id": "dd907c33-cbb4-43e0-b02d-5ac6942f6362",
   "metadata": {},
   "outputs": [
    {
     "data": {
      "image/png": "[encoded data removed]",
      "text/plain": [
       "<Figure size 800x600 with 2 Axes>"
      ]
     },
     "metadata": {},
     "output_type": "display_data"
    }
   ],
   "source": [
    "plt.figure(figsize=(8, 6))\n",
    "\n",
    "# Select only numeric columns\n",
    "numeric_data = train_data.select_dtypes(include=[\"number\"])\n",
    "\n",
    "# Compute and plot correlation matrix\n",
    "sns.heatmap(numeric_data.corr(), annot=True, cmap=\"coolwarm\", fmt=\".2f\")\n",
    "\n",
    "plt.title(\"Feature Correlation Heatmap\")\n",
    "plt.show()"
   ]
  },
  {
   "cell_type": "markdown",
   "id": "6850515e-afa0-4a24-94d3-e2f8f83cc909",
   "metadata": {},
   "source": [
    "**This heatmap shows the correlation between different features in the dataset. The values range from -1 to 1, where 1 represents a strong positive correlation, -1 represents a strong negative correlation, and values close to 0 indicate little to no correlation. The color intensity helps visualize the strength of these relationships.**\n",
    "\n",
    "**From the heatmap, we can see that:**\n",
    "\n",
    "**Sales are highly correlated with sales_ma_7 and sales_ma_30, meaning past sales trends strongly influence current sales.**\n",
    "\n",
    "**Onpromotion has a moderate positive correlation with sales, suggesting that promotions have some impact on increasing sales.**\n",
    "\n",
    "**Dcoilwtico (oil price) has a weak correlation with sales, indicating that oil prices do not significantly impact sales directly.**\n",
    "\n",
    "**Day_of_week and is_weekend have a high correlation, which is expected since weekends fall on specific days.**\n",
    "\n",
    "**Is_holiday and is_near_holiday are perfectly correlated, likely because one is derived from the other.**"
   ]
  },
  {
   "cell_type": "code",
   "execution_count": null,
   "id": "4db47142-be6c-4934-96d2-ed940cbd531c",
   "metadata": {},
   "outputs": [],
   "source": []
  },
  {
   "cell_type": "markdown",
   "id": "d2ed8dcb-7290-457c-873b-e287a12303e0",
   "metadata": {},
   "source": [
    "### Store-Wise Sales Comparison"
   ]
  },
  {
   "cell_type": "code",
   "execution_count": 647,
   "id": "50a48944-f09f-4704-8aff-cd65894d44ad",
   "metadata": {},
   "outputs": [
    {
     "data": {
      "image/png": "[encoded data removed]",
      "text/plain": [
       "<Figure size 1200x500 with 1 Axes>"
      ]
     },
     "metadata": {},
     "output_type": "display_data"
    }
   ],
   "source": [
    "store_sales = train_data.groupby(\"store_nbr\")[\"sales\"].sum().sort_values()\n",
    "\n",
    "plt.figure(figsize=(12, 5))\n",
    "store_sales.plot(kind=\"bar\", color=\"orange\")\n",
    "plt.xlabel(\"Store Number\")\n",
    "plt.ylabel(\"Total Sales\")\n",
    "plt.title(\"Total Sales by Store\")\n",
    "plt.show()"
   ]
  },
  {
   "cell_type": "markdown",
   "id": "4a1b94ec-604a-4403-ba78-cf37dac05ac6",
   "metadata": {},
   "source": [
    "**The bar chart represents the total sales across different stores, showing how sales vary from one store to another. Some stores, like Store 44, 45, and 47, have significantly higher sales compared to others, indicating that they are top performers. On the other hand, some stores have much lower sales, suggesting potential challenges such as lower customer traffic or less effective marketing strategies. The trend in the chart shows a gradual increase in sales for mid-range stores, but a steep rise for the top-performing ones. This suggests that a few stores contribute a major share of total sales. Understanding these differences can help businesses identify opportunities for improvement, such as running targeted promotions or analyzing the strategies of high-performing stores to replicate their success in other locations.**"
   ]
  },
  {
   "cell_type": "code",
   "execution_count": null,
   "id": "03ce9a25-1745-42a5-bc1d-b110bd17d846",
   "metadata": {},
   "outputs": [],
   "source": []
  },
  {
   "cell_type": "markdown",
   "id": "df268ddb-fdfd-4234-9cb7-54bb66a1f559",
   "metadata": {},
   "source": [
    "### Handling Missing Values in Categorical Columns"
   ]
  },
  {
   "cell_type": "code",
   "execution_count": 651,
   "id": "5a2ddfd4-326a-400f-8b86-48a73d89bdc6",
   "metadata": {},
   "outputs": [],
   "source": [
    "train_data[\"type_y\"].fillna(\"No Event\", inplace=True)\n",
    "train_data[\"locale\"].fillna(\"Unknown\", inplace=True)"
   ]
  },
  {
   "cell_type": "code",
   "execution_count": 652,
   "id": "b194a9a9-6bc2-4570-9efe-e1a826bc938b",
   "metadata": {},
   "outputs": [],
   "source": [
    "train_data[\"dcoilwtico\"].fillna(method=\"ffill\", inplace=True)"
   ]
  },
  {
   "cell_type": "code",
   "execution_count": null,
   "id": "3809eae8-7c21-4863-a4e5-d8b93cddce40",
   "metadata": {},
   "outputs": [],
   "source": []
  },
  {
   "cell_type": "markdown",
   "id": "fc1c16ec-cc00-4801-87e7-67979b184ead",
   "metadata": {},
   "source": [
    "### Handling Missing Values in Sales Moving Averages"
   ]
  },
  {
   "cell_type": "code",
   "execution_count": 655,
   "id": "8d747981-8eec-4c05-b6c9-a51494d216c2",
   "metadata": {},
   "outputs": [],
   "source": [
    "train_data[\"sales_ma_7\"].fillna(train_data[\"sales_ma_7\"].median(), inplace=True)\n",
    "train_data[\"sales_ma_30\"].fillna(train_data[\"sales_ma_30\"].median(), inplace=True)"
   ]
  },
  {
   "cell_type": "markdown",
   "id": "7fc79d1d-5f49-49ec-884d-90d2784c7359",
   "metadata": {},
   "source": [
    "**The given code fills missing values in the \"sales_ma_7\" and \"sales_ma_30\" columns using their respective median values. These columns likely represent the 7-day and 30-day moving averages of sales. Using the median ensures data completeness, prevents issues in analysis, and is robust against outliers. This approach helps maintain trend consistency, which is crucial for time-series analysis and forecasting.**"
   ]
  },
  {
   "cell_type": "code",
   "execution_count": null,
   "id": "71c10511-970b-4112-b62f-b278d2441e56",
   "metadata": {},
   "outputs": [],
   "source": []
  },
  {
   "cell_type": "markdown",
   "id": "dcb18af0-c541-4cad-897e-26ef27bead99",
   "metadata": {},
   "source": [
    "**Removing Irrelevant or Unnecessary Columns**"
   ]
  },
  {
   "cell_type": "code",
   "execution_count": 671,
   "id": "b7d73ae5-3b8e-4097-b5c2-c7f0c8e3ec23",
   "metadata": {},
   "outputs": [],
   "source": [
    "train_data.drop(columns=[\"locale_name\", \"description\", \"transferred\"], inplace=True)"
   ]
  },
  {
   "cell_type": "markdown",
   "id": "b2dda341-2b7b-4051-80d6-bf6085b2f52b",
   "metadata": {},
   "source": [
    "**The given code removes the \"locale_name,\" \"description,\" and \"transferred\" columns from the dataset. These columns are likely dropped because they do not contribute to the analysis or predictive modeling, may contain redundant information, or are not useful for numerical computations. Removing such columns helps reduce data complexity, improve model performance, and optimize storage.**"
   ]
  },
  {
   "cell_type": "code",
   "execution_count": null,
   "id": "d21a1209-8b63-4aaa-8c5a-cc8f29a6a758",
   "metadata": {},
   "outputs": [],
   "source": []
  },
  {
   "cell_type": "code",
   "execution_count": 675,
   "id": "b6dc7d8d-0d53-4571-a9f3-3a1b47dd1032",
   "metadata": {},
   "outputs": [
    {
     "data": {
      "text/plain": [
       "id                 0\n",
       "date               0\n",
       "store_nbr          0\n",
       "family             0\n",
       "sales              0\n",
       "onpromotion        0\n",
       "city               0\n",
       "state              0\n",
       "type_x             0\n",
       "cluster            0\n",
       "dcoilwtico         0\n",
       "type_y             0\n",
       "locale             0\n",
       "year               0\n",
       "month              0\n",
       "day                0\n",
       "day_of_week        0\n",
       "is_weekend         0\n",
       "sales_ma_7         0\n",
       "sales_ma_30        0\n",
       "is_holiday         0\n",
       "is_near_holiday    0\n",
       "dtype: int64"
      ]
     },
     "execution_count": 675,
     "metadata": {},
     "output_type": "execute_result"
    }
   ],
   "source": [
    "train_data.isnull().sum()"
   ]
  },
  {
   "cell_type": "code",
   "execution_count": null,
   "id": "ceebfaf1-d1c8-499f-aa39-560e4e90c11c",
   "metadata": {},
   "outputs": [],
   "source": []
  },
  {
   "cell_type": "markdown",
   "id": "a71f7494-aea3-49df-8dcc-72cb80d61729",
   "metadata": {},
   "source": [
    "#### Extracting Time-Based Features for Analysis"
   ]
  },
  {
   "cell_type": "code",
   "execution_count": 683,
   "id": "b072e8c3-ef67-475e-b1ed-45aaa6cc4b9b",
   "metadata": {},
   "outputs": [],
   "source": [
    "#  Feature Engineering: Extract Time-Based Features\n",
    "train_data[\"year\"] = train_data[\"date\"].dt.year\n",
    "train_data[\"month\"] = train_data[\"date\"].dt.month\n",
    "train_data[\"day\"] = train_data[\"date\"].dt.day\n",
    "train_data[\"day_of_week\"] = train_data[\"date\"].dt.weekday  # Monday = 0, Sunday = 6\n",
    "train_data[\"is_weekend\"] = (train_data[\"day_of_week\"] >= 5).astype(int)"
   ]
  },
  {
   "cell_type": "markdown",
   "id": "c65a34d1-ceee-482f-b18a-2d470069ed51",
   "metadata": {},
   "source": [
    "**The given code extracts various time-related features from the \"date\" column to enhance analysis and predictive modeling. It creates new columns for year, month, day, and day of the week to help understand seasonal patterns and trends. Additionally, it identifies weekends by checking if the day of the week corresponds to Saturday or Sunday (values 5 or 6) and assigns 1 for weekends and 0 for weekdays. These features are useful for identifying sales patterns, holiday effects, and time-based trends in the data.**"
   ]
  },
  {
   "cell_type": "code",
   "execution_count": null,
   "id": "b2c79538-9413-4493-b177-978a6ebb6c17",
   "metadata": {},
   "outputs": [],
   "source": []
  },
  {
   "cell_type": "markdown",
   "id": "63b84a04-eb77-4ef8-a906-f40b8501b33c",
   "metadata": {},
   "source": [
    "#### Creating Lag Features & Rolling Statistics for Time Series Forecasting"
   ]
  },
  {
   "cell_type": "code",
   "execution_count": 687,
   "id": "c27c69ae-be1b-4b03-a226-5a92258662b4",
   "metadata": {},
   "outputs": [],
   "source": [
    "# Lag Features & Rolling Statistics (for time series forecasting)\n",
    "train_data[\"sales_lag_7\"] = train_data[\"sales\"].shift(7)  # Sales 7 days ago\n",
    "train_data[\"sales_lag_30\"] = train_data[\"sales\"].shift(30)  # Sales 30 days ago\n",
    "train_data[\"sales_ma_7\"] = train_data[\"sales\"].rolling(window=7).mean()  # 7-day moving average\n",
    "train_data[\"sales_ma_30\"] = train_data[\"sales\"].rolling(window=30).mean()  # 30-day moving average"
   ]
  },
  {
   "cell_type": "markdown",
   "id": "e96f9db2-fe2e-4d1b-987a-907804383be9",
   "metadata": {},
   "source": [
    "**This code helps in preparing sales data for forecasting by creating lag features and moving averages. Lag features, such as sales from 7 days ago (sales_lag_7) and 30 days ago (sales_lag_30), allow the model to recognize past patterns that might influence future sales. Moving averages, like the 7-day average (sales_ma_7) and 30-day average (sales_ma_30), smooth out short-term fluctuations and highlight overall trends. These features are useful in time series forecasting as they help capture seasonality and long-term patterns, improving the accuracy of sales predictions.**"
   ]
  },
  {
   "cell_type": "code",
   "execution_count": null,
   "id": "211b8439-2ad9-4689-93d0-8a8634b1b377",
   "metadata": {},
   "outputs": [],
   "source": []
  },
  {
   "cell_type": "code",
   "execution_count": 694,
   "id": "656bfbe0-9d77-4cde-b94b-6ba90f238957",
   "metadata": {},
   "outputs": [],
   "source": [
    "# Fill NaN values created by rolling functions\n",
    "train_data.fillna(0, inplace=True)"
   ]
  },
  {
   "cell_type": "code",
   "execution_count": null,
   "id": "d7e5b39b-6946-47e7-a85c-af0395baedda",
   "metadata": {},
   "outputs": [],
   "source": []
  },
  {
   "cell_type": "code",
   "execution_count": 697,
   "id": "d5613bd3-0815-4063-9838-977b44ee302e",
   "metadata": {},
   "outputs": [],
   "source": [
    "# Handle Categorical Features\n",
    "categorical_cols = [\"family\", \"city\", \"state\", \"type_x\", \"type_y\", \"locale\"]  # List of categorical columns"
   ]
  },
  {
   "cell_type": "code",
   "execution_count": null,
   "id": "74ff2b58-3633-4b63-b51b-335436daf529",
   "metadata": {},
   "outputs": [],
   "source": []
  },
  {
   "cell_type": "code",
   "execution_count": 699,
   "id": "8574d7ac-5595-4497-81f6-9269663d1d52",
   "metadata": {},
   "outputs": [],
   "source": [
    "from sklearn.model_selection import train_test_split\n",
    "from sklearn.preprocessing import OneHotEncoder"
   ]
  },
  {
   "cell_type": "code",
   "execution_count": 700,
   "id": "3e191cbd-07d8-4946-a13a-5b8ba447dbfa",
   "metadata": {},
   "outputs": [],
   "source": [
    "# Convert categorical variables to numerical using OneHotEncoding\n",
    "encoder = OneHotEncoder(handle_unknown=\"ignore\", sparse_output=False)\n",
    "encoded_features = encoder.fit_transform(train_data[categorical_cols])"
   ]
  },
  {
   "cell_type": "code",
   "execution_count": 704,
   "id": "0f90c5e6-b5e3-4cad-a8c4-74be04b6697d",
   "metadata": {},
   "outputs": [],
   "source": [
    "# Convert to DataFrame and merge\n",
    "encoded_df = pd.DataFrame(encoded_features, columns=encoder.get_feature_names_out(categorical_cols))\n",
    "train_data = pd.concat([train_data, encoded_df], axis=1)\n",
    "train_data.drop(columns=categorical_cols, inplace=True)  # Drop original categorical columns"
   ]
  },
  {
   "cell_type": "code",
   "execution_count": 706,
   "id": "8b9f658c-5519-4fdb-bc94-896a1bc95ad3",
   "metadata": {},
   "outputs": [
    {
     "name": "stdout",
     "output_type": "stream",
     "text": [
      "   id       date  store_nbr  sales  onpromotion  cluster  dcoilwtico  year  \\\n",
      "0   0 2013-01-01          1    0.0            0       13       93.14  2013   \n",
      "1   1 2013-01-01          1    0.0            0       13       93.14  2013   \n",
      "2   2 2013-01-01          1    0.0            0       13       93.14  2013   \n",
      "3   3 2013-01-01          1    0.0            0       13       93.14  2013   \n",
      "4   4 2013-01-01          1    0.0            0       13       93.14  2013   \n",
      "\n",
      "   month  day  ...  type_y_Bridge  type_y_Event  type_y_Holiday  \\\n",
      "0      1    1  ...            0.0           0.0             1.0   \n",
      "1      1    1  ...            0.0           0.0             1.0   \n",
      "2      1    1  ...            0.0           0.0             1.0   \n",
      "3      1    1  ...            0.0           0.0             1.0   \n",
      "4      1    1  ...            0.0           0.0             1.0   \n",
      "\n",
      "   type_y_No Event  type_y_Transfer  type_y_Work Day  locale_Local  \\\n",
      "0              0.0              0.0              0.0           0.0   \n",
      "1              0.0              0.0              0.0           0.0   \n",
      "2              0.0              0.0              0.0           0.0   \n",
      "3              0.0              0.0              0.0           0.0   \n",
      "4              0.0              0.0              0.0           0.0   \n",
      "\n",
      "   locale_National  locale_Regional  locale_Unknown  \n",
      "0              1.0              0.0             0.0  \n",
      "1              1.0              0.0             0.0  \n",
      "2              1.0              0.0             0.0  \n",
      "3              1.0              0.0             0.0  \n",
      "4              1.0              0.0             0.0  \n",
      "\n",
      "[5 rows x 105 columns]\n"
     ]
    }
   ],
   "source": [
    "print(train_data.head())"
   ]
  },
  {
   "cell_type": "code",
   "execution_count": null,
   "id": "3f9890dd-2593-4ac2-a94a-248dfb3b3066",
   "metadata": {},
   "outputs": [],
   "source": []
  },
  {
   "cell_type": "markdown",
   "id": "3c839af6-f319-48ff-ab78-9209976093e4",
   "metadata": {},
   "source": [
    "### Split Data into Train & Test Sets"
   ]
  },
  {
   "cell_type": "code",
   "execution_count": 712,
   "id": "bb849f5f-4bab-484d-b8c4-c62814f22b25",
   "metadata": {},
   "outputs": [],
   "source": [
    "# Prepare Data for Model Training\n",
    "X = train_data.drop(columns=[\"sales\", \"date\"])  # Features (Drop 'date' before training)\n",
    "y = train_data[\"sales\"]  # Target variable"
   ]
  },
  {
   "cell_type": "code",
   "execution_count": 713,
   "id": "45a5c43b-7299-47a1-9c07-546748314dfd",
   "metadata": {},
   "outputs": [
    {
     "name": "stdout",
     "output_type": "stream",
     "text": [
      "Shape of X_train: (2443478, 103) Shape of X_test: (610870, 103)\n"
     ]
    }
   ],
   "source": [
    "#  Train-Test Split\n",
    "X_train, X_test, y_train, y_test = train_test_split(X, y, test_size=0.2, random_state=42, shuffle=False)  # No shuffling for time series\n",
    "\n",
    "print(\"Shape of X_train:\", X_train.shape, \"Shape of X_test:\", X_test.shape)"
   ]
  },
  {
   "cell_type": "code",
   "execution_count": null,
   "id": "418b9da9-0a08-4980-982a-89d766e5d4f2",
   "metadata": {},
   "outputs": [],
   "source": []
  },
  {
   "cell_type": "markdown",
   "id": "f8ec760c-eb51-4d28-81bf-3a838a19f4e8",
   "metadata": {},
   "source": [
    "### Random Forest Model"
   ]
  },
  {
   "cell_type": "code",
   "execution_count": 184,
   "id": "1dd40f4d-fb61-4386-93cd-7b81f0b813ef",
   "metadata": {},
   "outputs": [
    {
     "name": "stdout",
     "output_type": "stream",
     "text": [
      "Random Forest - RMSE: 198.5881882504339, MAE: 45.5980999981825, R2 Score: 0.9788461836602868\n"
     ]
    }
   ],
   "source": [
    "from sklearn.ensemble import RandomForestRegressor\n",
    "from sklearn.metrics import mean_squared_error, mean_absolute_error, r2_score\n",
    "\n",
    "# Train the model\n",
    "rf_model = RandomForestRegressor(n_estimators=100, random_state=42, n_jobs=-1)\n",
    "rf_model.fit(X_train, y_train)\n",
    "\n",
    "# Predict on test data\n",
    "rf_preds = rf_model.predict(X_test)\n",
    "\n",
    "# Evaluate the model\n",
    "rmse_rf = mean_squared_error(y_test, rf_preds, squared=False)\n",
    "mae_rf = mean_absolute_error(y_test, rf_preds)\n",
    "r2_rf = r2_score(y_test, rf_preds)\n",
    "\n",
    "print(f\"Random Forest - RMSE: {rmse_rf}, MAE: {mae_rf}, R2 Score: {r2_rf}\")"
   ]
  },
  {
   "cell_type": "code",
   "execution_count": null,
   "id": "df8ec950-3676-456e-b3a8-04e5e108c407",
   "metadata": {},
   "outputs": [],
   "source": []
  },
  {
   "cell_type": "markdown",
   "id": "85ef799a-132b-48c1-8209-d6e188a5b9ec",
   "metadata": {},
   "source": [
    "### XGBoost Regressor"
   ]
  },
  {
   "cell_type": "code",
   "execution_count": 187,
   "id": "e5c2fec6-b5e9-49f4-97ab-fb283b98a69c",
   "metadata": {},
   "outputs": [
    {
     "name": "stdout",
     "output_type": "stream",
     "text": [
      "XGBoost - RMSE: 304.1616689312008, MAE: 82.1023862853729, R2 Score: 0.9503761029654914\n"
     ]
    }
   ],
   "source": [
    "import xgboost as xgb\n",
    "\n",
    "# Initialize and train the XGBoost model\n",
    "xgb_model = xgb.XGBRegressor(n_estimators=100, learning_rate=0.1, random_state=42)\n",
    "xgb_model.fit(X_train, y_train)\n",
    "\n",
    "# Predict on test data\n",
    "xgb_preds = xgb_model.predict(X_test)\n",
    "\n",
    "# Evaluate the model\n",
    "rmse_xgb = mean_squared_error(y_test, xgb_preds, squared=False)\n",
    "mae_xgb = mean_absolute_error(y_test, xgb_preds)\n",
    "r2_xgb = r2_score(y_test, xgb_preds)\n",
    "\n",
    "print(f\"XGBoost - RMSE: {rmse_xgb}, MAE: {mae_xgb}, R2 Score: {r2_xgb}\")"
   ]
  },
  {
   "cell_type": "code",
   "execution_count": null,
   "id": "bb29e1c5-7108-47a8-986f-570e11a336a5",
   "metadata": {},
   "outputs": [],
   "source": []
  },
  {
   "cell_type": "markdown",
   "id": "39a6ec21-c496-48c1-8fe5-6760ab414f38",
   "metadata": {},
   "source": [
    "### LSTM Model"
   ]
  },
  {
   "cell_type": "code",
   "execution_count": 719,
   "id": "e5bfc907-8449-41c5-b19b-d3c1a12fcd54",
   "metadata": {},
   "outputs": [
    {
     "name": "stdout",
     "output_type": "stream",
     "text": [
      "Epoch 1/50\n",
      "\u001b[1m38180/38180\u001b[0m \u001b[32m━━━━━━━━━━━━━━━━━━━━\u001b[0m\u001b[37m\u001b[0m \u001b[1m145s\u001b[0m 4ms/step - loss: 1.6017e-05 - val_loss: 8.3442e-06\n",
      "Epoch 2/50\n",
      "\u001b[1m38180/38180\u001b[0m \u001b[32m━━━━━━━━━━━━━━━━━━━━\u001b[0m\u001b[37m\u001b[0m \u001b[1m128s\u001b[0m 3ms/step - loss: 5.6442e-06 - val_loss: 7.8661e-06\n",
      "Epoch 3/50\n",
      "\u001b[1m38180/38180\u001b[0m \u001b[32m━━━━━━━━━━━━━━━━━━━━\u001b[0m\u001b[37m\u001b[0m \u001b[1m125s\u001b[0m 3ms/step - loss: 5.3486e-06 - val_loss: 7.1046e-06\n",
      "Epoch 4/50\n",
      "\u001b[1m38180/38180\u001b[0m \u001b[32m━━━━━━━━━━━━━━━━━━━━\u001b[0m\u001b[37m\u001b[0m \u001b[1m128s\u001b[0m 3ms/step - loss: 4.3254e-06 - val_loss: 7.3016e-06\n",
      "Epoch 5/50\n",
      "\u001b[1m38180/38180\u001b[0m \u001b[32m━━━━━━━━━━━━━━━━━━━━\u001b[0m\u001b[37m\u001b[0m \u001b[1m128s\u001b[0m 3ms/step - loss: 3.6585e-06 - val_loss: 1.4797e-05\n",
      "Epoch 6/50\n",
      "\u001b[1m38180/38180\u001b[0m \u001b[32m━━━━━━━━━━━━━━━━━━━━\u001b[0m\u001b[37m\u001b[0m \u001b[1m127s\u001b[0m 3ms/step - loss: 3.8008e-06 - val_loss: 6.5182e-06\n",
      "Epoch 7/50\n",
      "\u001b[1m38180/38180\u001b[0m \u001b[32m━━━━━━━━━━━━━━━━━━━━\u001b[0m\u001b[37m\u001b[0m \u001b[1m127s\u001b[0m 3ms/step - loss: 3.4854e-06 - val_loss: 5.3119e-06\n",
      "Epoch 8/50\n",
      "\u001b[1m38180/38180\u001b[0m \u001b[32m━━━━━━━━━━━━━━━━━━━━\u001b[0m\u001b[37m\u001b[0m \u001b[1m128s\u001b[0m 3ms/step - loss: 3.3463e-06 - val_loss: 6.0244e-06\n",
      "Epoch 9/50\n",
      "\u001b[1m38180/38180\u001b[0m \u001b[32m━━━━━━━━━━━━━━━━━━━━\u001b[0m\u001b[37m\u001b[0m \u001b[1m127s\u001b[0m 3ms/step - loss: 3.1699e-06 - val_loss: 6.5685e-06\n",
      "Epoch 10/50\n",
      "\u001b[1m38180/38180\u001b[0m \u001b[32m━━━━━━━━━━━━━━━━━━━━\u001b[0m\u001b[37m\u001b[0m \u001b[1m128s\u001b[0m 3ms/step - loss: 3.0733e-06 - val_loss: 5.7909e-06\n",
      "Epoch 11/50\n",
      "\u001b[1m38180/38180\u001b[0m \u001b[32m━━━━━━━━━━━━━━━━━━━━\u001b[0m\u001b[37m\u001b[0m \u001b[1m128s\u001b[0m 3ms/step - loss: 2.8490e-06 - val_loss: 5.2830e-06\n",
      "Epoch 12/50\n",
      "\u001b[1m38180/38180\u001b[0m \u001b[32m━━━━━━━━━━━━━━━━━━━━\u001b[0m\u001b[37m\u001b[0m \u001b[1m128s\u001b[0m 3ms/step - loss: 2.9533e-06 - val_loss: 5.0878e-06\n",
      "Epoch 13/50\n",
      "\u001b[1m38180/38180\u001b[0m \u001b[32m━━━━━━━━━━━━━━━━━━━━\u001b[0m\u001b[37m\u001b[0m \u001b[1m128s\u001b[0m 3ms/step - loss: 2.8859e-06 - val_loss: 6.1095e-06\n",
      "Epoch 14/50\n",
      "\u001b[1m38180/38180\u001b[0m \u001b[32m━━━━━━━━━━━━━━━━━━━━\u001b[0m\u001b[37m\u001b[0m \u001b[1m125s\u001b[0m 3ms/step - loss: 2.7914e-06 - val_loss: 5.1111e-06\n",
      "Epoch 15/50\n",
      "\u001b[1m38180/38180\u001b[0m \u001b[32m━━━━━━━━━━━━━━━━━━━━\u001b[0m\u001b[37m\u001b[0m \u001b[1m127s\u001b[0m 3ms/step - loss: 2.7113e-06 - val_loss: 5.1040e-06\n",
      "Epoch 16/50\n",
      "\u001b[1m38180/38180\u001b[0m \u001b[32m━━━━━━━━━━━━━━━━━━━━\u001b[0m\u001b[37m\u001b[0m \u001b[1m108s\u001b[0m 3ms/step - loss: 2.6974e-06 - val_loss: 7.3015e-06\n",
      "Epoch 17/50\n",
      "\u001b[1m38180/38180\u001b[0m \u001b[32m━━━━━━━━━━━━━━━━━━━━\u001b[0m\u001b[37m\u001b[0m \u001b[1m84s\u001b[0m 2ms/step - loss: 3.1427e-06 - val_loss: 7.3478e-06\n",
      "\u001b[1m19090/19090\u001b[0m \u001b[32m━━━━━━━━━━━━━━━━━━━━\u001b[0m\u001b[37m\u001b[0m \u001b[1m18s\u001b[0m 924us/step\n",
      "LSTM - RMSE: 281.31396902939423\n"
     ]
    }
   ],
   "source": [
    "import numpy as np\n",
    "import pandas as pd\n",
    "from sklearn.preprocessing import MinMaxScaler\n",
    "from sklearn.metrics import mean_squared_error\n",
    "from tensorflow.keras.models import Sequential\n",
    "from tensorflow.keras.layers import LSTM, Dense, Dropout\n",
    "from tensorflow.keras.callbacks import EarlyStopping\n",
    "\n",
    "# Assuming X_train, X_test, y_train, y_test are already defined\n",
    "# Convert y_train and y_test to NumPy arrays and reshape correctly\n",
    "y_train = y_train.to_numpy().reshape(-1, 1)\n",
    "y_test = y_test.to_numpy().reshape(-1, 1)\n",
    "\n",
    "# Scale the features\n",
    "scaler_X = MinMaxScaler()\n",
    "X_train_scaled = scaler_X.fit_transform(X_train)\n",
    "X_test_scaled = scaler_X.transform(X_test)\n",
    "\n",
    "# Scale the target variable\n",
    "scaler_y = MinMaxScaler()\n",
    "y_train_scaled = scaler_y.fit_transform(y_train)\n",
    "y_test_scaled = scaler_y.transform(y_test)\n",
    "\n",
    "# Reshape for LSTM (samples, timesteps, features)\n",
    "X_train_lstm = np.reshape(X_train_scaled, (X_train_scaled.shape[0], 1, X_train_scaled.shape[1]))\n",
    "X_test_lstm = np.reshape(X_test_scaled, (X_test_scaled.shape[0], 1, X_test_scaled.shape[1]))\n",
    "\n",
    "# Build LSTM model\n",
    "model = Sequential([\n",
    "    LSTM(100, return_sequences=True, input_shape=(1, X_train_scaled.shape[1])),\n",
    "    Dropout(0.2),\n",
    "    LSTM(50),\n",
    "    Dropout(0.2),\n",
    "    Dense(25),\n",
    "    Dense(1)\n",
    "])\n",
    "\n",
    "model.compile(optimizer='adam', loss='mse')\n",
    "\n",
    "# Early stopping to prevent overfitting\n",
    "early_stopping = EarlyStopping(monitor='val_loss', patience=5, restore_best_weights=True)\n",
    "\n",
    "# Train the model\n",
    "history = model.fit(\n",
    "    X_train_lstm, y_train_scaled,\n",
    "    validation_data=(X_test_lstm, y_test_scaled),\n",
    "    epochs=50,\n",
    "    batch_size=64,\n",
    "    callbacks=[early_stopping],\n",
    "    verbose=1\n",
    ")\n",
    "\n",
    "# Make predictions\n",
    "y_pred_scaled = model.predict(X_test_lstm)\n",
    "\n",
    "# Inverse transform predictions to get actual sales values\n",
    "y_pred_actual = scaler_y.inverse_transform(y_pred_scaled)\n",
    "\n",
    "# Calculate RMSE\n",
    "rmse = np.sqrt(mean_squared_error(y_test, y_pred_actual))\n",
    "print(f\"LSTM - RMSE: {rmse}\")\n"
   ]
  },
  {
   "cell_type": "code",
   "execution_count": null,
   "id": "4d2642e7-c786-4bc6-8956-1a901655cdb9",
   "metadata": {},
   "outputs": [],
   "source": []
  },
  {
   "cell_type": "code",
   "execution_count": null,
   "id": "3d9183b5-40c2-42ca-bdd7-46b62a562759",
   "metadata": {},
   "outputs": [],
   "source": []
  },
  {
   "cell_type": "code",
   "execution_count": 726,
   "id": "c6a24c6b-e688-431a-a4ec-5df8691aaf79",
   "metadata": {},
   "outputs": [
    {
     "name": "stdout",
     "output_type": "stream",
     "text": [
      "Epoch 1/100\n",
      "\u001b[1m4773/4773\u001b[0m \u001b[32m━━━━━━━━━━━━━━━━━━━━\u001b[0m\u001b[37m\u001b[0m \u001b[1m40s\u001b[0m 8ms/step - loss: 1.9649e-05 - val_loss: 8.3944e-06\n",
      "Epoch 2/100\n",
      "\u001b[1m4773/4773\u001b[0m \u001b[32m━━━━━━━━━━━━━━━━━━━━\u001b[0m\u001b[37m\u001b[0m \u001b[1m36s\u001b[0m 8ms/step - loss: 6.6485e-06 - val_loss: 6.7748e-06\n",
      "Epoch 3/100\n",
      "\u001b[1m4773/4773\u001b[0m \u001b[32m━━━━━━━━━━━━━━━━━━━━\u001b[0m\u001b[37m\u001b[0m \u001b[1m36s\u001b[0m 8ms/step - loss: 5.9672e-06 - val_loss: 1.0124e-05\n",
      "Epoch 4/100\n",
      "\u001b[1m4773/4773\u001b[0m \u001b[32m━━━━━━━━━━━━━━━━━━━━\u001b[0m\u001b[37m\u001b[0m \u001b[1m36s\u001b[0m 8ms/step - loss: 4.8123e-06 - val_loss: 7.3817e-06\n",
      "Epoch 5/100\n",
      "\u001b[1m4773/4773\u001b[0m \u001b[32m━━━━━━━━━━━━━━━━━━━━\u001b[0m\u001b[37m\u001b[0m \u001b[1m36s\u001b[0m 8ms/step - loss: 4.3920e-06 - val_loss: 9.3064e-06\n",
      "Epoch 6/100\n",
      "\u001b[1m4773/4773\u001b[0m \u001b[32m━━━━━━━━━━━━━━━━━━━━\u001b[0m\u001b[37m\u001b[0m \u001b[1m36s\u001b[0m 8ms/step - loss: 4.7117e-06 - val_loss: 6.3974e-06\n",
      "Epoch 7/100\n",
      "\u001b[1m4773/4773\u001b[0m \u001b[32m━━━━━━━━━━━━━━━━━━━━\u001b[0m\u001b[37m\u001b[0m \u001b[1m37s\u001b[0m 8ms/step - loss: 3.7196e-06 - val_loss: 6.2023e-06\n",
      "Epoch 8/100\n",
      "\u001b[1m4773/4773\u001b[0m \u001b[32m━━━━━━━━━━━━━━━━━━━━\u001b[0m\u001b[37m\u001b[0m \u001b[1m36s\u001b[0m 8ms/step - loss: 3.7725e-06 - val_loss: 6.5302e-06\n",
      "Epoch 9/100\n",
      "\u001b[1m4773/4773\u001b[0m \u001b[32m━━━━━━━━━━━━━━━━━━━━\u001b[0m\u001b[37m\u001b[0m \u001b[1m37s\u001b[0m 8ms/step - loss: 3.4521e-06 - val_loss: 6.2894e-06\n",
      "Epoch 10/100\n",
      "\u001b[1m4773/4773\u001b[0m \u001b[32m━━━━━━━━━━━━━━━━━━━━\u001b[0m\u001b[37m\u001b[0m \u001b[1m37s\u001b[0m 8ms/step - loss: 3.2700e-06 - val_loss: 5.6452e-06\n",
      "Epoch 11/100\n",
      "\u001b[1m4773/4773\u001b[0m \u001b[32m━━━━━━━━━━━━━━━━━━━━\u001b[0m\u001b[37m\u001b[0m \u001b[1m37s\u001b[0m 8ms/step - loss: 3.4859e-06 - val_loss: 6.6604e-06\n",
      "Epoch 12/100\n",
      "\u001b[1m4773/4773\u001b[0m \u001b[32m━━━━━━━━━━━━━━━━━━━━\u001b[0m\u001b[37m\u001b[0m \u001b[1m37s\u001b[0m 8ms/step - loss: 3.3817e-06 - val_loss: 5.6296e-06\n",
      "Epoch 13/100\n",
      "\u001b[1m4773/4773\u001b[0m \u001b[32m━━━━━━━━━━━━━━━━━━━━\u001b[0m\u001b[37m\u001b[0m \u001b[1m38s\u001b[0m 8ms/step - loss: 3.1118e-06 - val_loss: 6.4323e-06\n",
      "Epoch 14/100\n",
      "\u001b[1m4773/4773\u001b[0m \u001b[32m━━━━━━━━━━━━━━━━━━━━\u001b[0m\u001b[37m\u001b[0m \u001b[1m37s\u001b[0m 8ms/step - loss: 3.1719e-06 - val_loss: 5.9219e-06\n",
      "Epoch 15/100\n",
      "\u001b[1m4773/4773\u001b[0m \u001b[32m━━━━━━━━━━━━━━━━━━━━\u001b[0m\u001b[37m\u001b[0m \u001b[1m37s\u001b[0m 8ms/step - loss: 3.2161e-06 - val_loss: 6.2581e-06\n",
      "Epoch 16/100\n",
      "\u001b[1m4773/4773\u001b[0m \u001b[32m━━━━━━━━━━━━━━━━━━━━\u001b[0m\u001b[37m\u001b[0m \u001b[1m39s\u001b[0m 8ms/step - loss: 3.2584e-06 - val_loss: 5.6317e-06\n",
      "Epoch 17/100\n",
      "\u001b[1m4773/4773\u001b[0m \u001b[32m━━━━━━━━━━━━━━━━━━━━\u001b[0m\u001b[37m\u001b[0m \u001b[1m37s\u001b[0m 8ms/step - loss: 2.8942e-06 - val_loss: 5.9362e-06\n",
      "Epoch 18/100\n",
      "\u001b[1m4773/4773\u001b[0m \u001b[32m━━━━━━━━━━━━━━━━━━━━\u001b[0m\u001b[37m\u001b[0m \u001b[1m37s\u001b[0m 8ms/step - loss: 2.7989e-06 - val_loss: 5.4872e-06\n",
      "Epoch 19/100\n",
      "\u001b[1m4773/4773\u001b[0m \u001b[32m━━━━━━━━━━━━━━━━━━━━\u001b[0m\u001b[37m\u001b[0m \u001b[1m37s\u001b[0m 8ms/step - loss: 3.0468e-06 - val_loss: 5.9784e-06\n",
      "Epoch 20/100\n",
      "\u001b[1m4773/4773\u001b[0m \u001b[32m━━━━━━━━━━━━━━━━━━━━\u001b[0m\u001b[37m\u001b[0m \u001b[1m37s\u001b[0m 8ms/step - loss: 2.7862e-06 - val_loss: 5.4402e-06\n",
      "Epoch 21/100\n",
      "\u001b[1m4773/4773\u001b[0m \u001b[32m━━━━━━━━━━━━━━━━━━━━\u001b[0m\u001b[37m\u001b[0m \u001b[1m37s\u001b[0m 8ms/step - loss: 2.7704e-06 - val_loss: 4.9495e-06\n",
      "Epoch 22/100\n",
      "\u001b[1m4773/4773\u001b[0m \u001b[32m━━━━━━━━━━━━━━━━━━━━\u001b[0m\u001b[37m\u001b[0m \u001b[1m36s\u001b[0m 8ms/step - loss: 2.9774e-06 - val_loss: 5.7327e-06\n",
      "Epoch 23/100\n",
      "\u001b[1m4773/4773\u001b[0m \u001b[32m━━━━━━━━━━━━━━━━━━━━\u001b[0m\u001b[37m\u001b[0m \u001b[1m36s\u001b[0m 8ms/step - loss: 3.2158e-06 - val_loss: 5.1858e-06\n",
      "Epoch 24/100\n",
      "\u001b[1m4773/4773\u001b[0m \u001b[32m━━━━━━━━━━━━━━━━━━━━\u001b[0m\u001b[37m\u001b[0m \u001b[1m36s\u001b[0m 8ms/step - loss: 2.6779e-06 - val_loss: 4.9287e-06\n",
      "Epoch 25/100\n",
      "\u001b[1m4773/4773\u001b[0m \u001b[32m━━━━━━━━━━━━━━━━━━━━\u001b[0m\u001b[37m\u001b[0m \u001b[1m36s\u001b[0m 8ms/step - loss: 2.7417e-06 - val_loss: 4.6466e-06\n",
      "Epoch 26/100\n",
      "\u001b[1m4773/4773\u001b[0m \u001b[32m━━━━━━━━━━━━━━━━━━━━\u001b[0m\u001b[37m\u001b[0m \u001b[1m36s\u001b[0m 8ms/step - loss: 2.5961e-06 - val_loss: 4.9828e-06\n",
      "Epoch 27/100\n",
      "\u001b[1m4773/4773\u001b[0m \u001b[32m━━━━━━━━━━━━━━━━━━━━\u001b[0m\u001b[37m\u001b[0m \u001b[1m36s\u001b[0m 8ms/step - loss: 2.7335e-06 - val_loss: 4.7760e-06\n",
      "Epoch 28/100\n",
      "\u001b[1m4773/4773\u001b[0m \u001b[32m━━━━━━━━━━━━━━━━━━━━\u001b[0m\u001b[37m\u001b[0m \u001b[1m36s\u001b[0m 8ms/step - loss: 2.6557e-06 - val_loss: 5.0853e-06\n",
      "Epoch 29/100\n",
      "\u001b[1m4773/4773\u001b[0m \u001b[32m━━━━━━━━━━━━━━━━━━━━\u001b[0m\u001b[37m\u001b[0m \u001b[1m36s\u001b[0m 8ms/step - loss: 2.3923e-06 - val_loss: 5.9812e-06\n",
      "Epoch 30/100\n",
      "\u001b[1m4773/4773\u001b[0m \u001b[32m━━━━━━━━━━━━━━━━━━━━\u001b[0m\u001b[37m\u001b[0m \u001b[1m36s\u001b[0m 8ms/step - loss: 2.7002e-06 - val_loss: 5.4669e-06\n",
      "Epoch 31/100\n",
      "\u001b[1m4773/4773\u001b[0m \u001b[32m━━━━━━━━━━━━━━━━━━━━\u001b[0m\u001b[37m\u001b[0m \u001b[1m36s\u001b[0m 8ms/step - loss: 2.3700e-06 - val_loss: 5.4356e-06\n",
      "Epoch 32/100\n",
      "\u001b[1m4773/4773\u001b[0m \u001b[32m━━━━━━━━━━━━━━━━━━━━\u001b[0m\u001b[37m\u001b[0m \u001b[1m36s\u001b[0m 8ms/step - loss: 2.5561e-06 - val_loss: 9.5156e-06\n",
      "Epoch 33/100\n",
      "\u001b[1m4773/4773\u001b[0m \u001b[32m━━━━━━━━━━━━━━━━━━━━\u001b[0m\u001b[37m\u001b[0m \u001b[1m36s\u001b[0m 8ms/step - loss: 2.6319e-06 - val_loss: 4.6703e-06\n",
      "Epoch 34/100\n",
      "\u001b[1m4773/4773\u001b[0m \u001b[32m━━━━━━━━━━━━━━━━━━━━\u001b[0m\u001b[37m\u001b[0m \u001b[1m37s\u001b[0m 8ms/step - loss: 2.5734e-06 - val_loss: 5.3415e-06\n",
      "Epoch 35/100\n",
      "\u001b[1m4773/4773\u001b[0m \u001b[32m━━━━━━━━━━━━━━━━━━━━\u001b[0m\u001b[37m\u001b[0m \u001b[1m36s\u001b[0m 8ms/step - loss: 2.7935e-06 - val_loss: 5.0796e-06\n",
      "\u001b[1m19090/19090\u001b[0m \u001b[32m━━━━━━━━━━━━━━━━━━━━\u001b[0m\u001b[37m\u001b[0m \u001b[1m19s\u001b[0m 977us/step\n",
      "LSTM - RMSE: 268.8398072796827\n"
     ]
    }
   ],
   "source": [
    "import numpy as np\n",
    "import pandas as pd\n",
    "from sklearn.preprocessing import MinMaxScaler\n",
    "from sklearn.metrics import mean_squared_error\n",
    "from tensorflow.keras.models import Sequential\n",
    "from tensorflow.keras.layers import LSTM, Dense, Dropout\n",
    "from tensorflow.keras.callbacks import EarlyStopping\n",
    "\n",
    "# Assuming X_train, X_test, y_train, y_test are already defined\n",
    "# Convert y_train and y_test to NumPy arrays and reshape correctly\n",
    "y_train = np.array(y_train).reshape(-1, 1)\n",
    "y_test = np.array(y_test).reshape(-1, 1)\n",
    "\n",
    "# Scale the features\n",
    "scaler_X = MinMaxScaler(feature_range=(0, 1))\n",
    "X_train_scaled = scaler_X.fit_transform(X_train)\n",
    "X_test_scaled = scaler_X.transform(X_test)\n",
    "\n",
    "# Scale the target variable\n",
    "scaler_y = MinMaxScaler(feature_range=(0, 1))\n",
    "y_train_scaled = scaler_y.fit_transform(y_train)\n",
    "y_test_scaled = scaler_y.transform(y_test)\n",
    "\n",
    "# Reshape for LSTM (samples, timesteps, features)\n",
    "X_train_lstm = X_train_scaled.reshape((X_train_scaled.shape[0], 1, X_train_scaled.shape[1]))\n",
    "X_test_lstm = X_test_scaled.reshape((X_test_scaled.shape[0], 1, X_test_scaled.shape[1]))\n",
    "\n",
    "# Build LSTM model\n",
    "model = Sequential([\n",
    "    LSTM(128, return_sequences=True, input_shape=(X_train_lstm.shape[1], X_train_lstm.shape[2])),\n",
    "    Dropout(0.3),\n",
    "    LSTM(64, return_sequences=False),\n",
    "    Dropout(0.3),\n",
    "    Dense(32, activation='relu'),\n",
    "    Dense(1)\n",
    "])\n",
    "\n",
    "model.compile(optimizer='adam', loss='mse')\n",
    "\n",
    "# Early stopping to prevent overfitting\n",
    "early_stopping = EarlyStopping(monitor='val_loss', patience=10, restore_best_weights=True)\n",
    "\n",
    "# Train the model\n",
    "history = model.fit(\n",
    "    X_train_lstm, y_train_scaled,\n",
    "    validation_data=(X_test_lstm, y_test_scaled),\n",
    "    epochs=100,\n",
    "    batch_size=512,  # Increased batch size for large dataset\n",
    "    callbacks=[early_stopping],\n",
    "    verbose=1\n",
    ")\n",
    "\n",
    "# Make predictions\n",
    "y_pred_scaled = model.predict(X_test_lstm)\n",
    "\n",
    "# Inverse transform predictions to get actual sales values\n",
    "y_pred_actual = scaler_y.inverse_transform(y_pred_scaled)\n",
    "\n",
    "# Calculate RMSE\n",
    "rmse = np.sqrt(mean_squared_error(y_test, y_pred_actual))\n",
    "print(f\"LSTM - RMSE: {rmse}\")"
   ]
  },
  {
   "cell_type": "code",
   "execution_count": null,
   "id": "773c413f-fe06-4039-94cc-d085a9039317",
   "metadata": {},
   "outputs": [],
   "source": []
  },
  {
   "cell_type": "markdown",
   "id": "8f85722a-e619-46d1-aeac-78fb790a1cf3",
   "metadata": {},
   "source": [
    "## Challenge:"
   ]
  },
  {
   "cell_type": "markdown",
   "id": "f74868e4-9ad1-4a6f-b809-340b6cd38304",
   "metadata": {},
   "source": [
    "**While training our model with hyperparameter tuning, we encountered a MemoryError because the dataset was too large. This caused the system to run out of RAM, making it difficult to complete the training process.**\n",
    "\n",
    "**Solution:**\n",
    "\n",
    "**To overcome this issue, we took the following steps:**\n",
    "\n",
    "**Reduced the Number of Features – Used PCA (Principal Component Analysis) to select only the most important features, reducing the dataset size.**\n",
    "\n",
    "**Used a Smaller Dataset for Tuning – Instead of training on the entire dataset, we selected only 10% of the data for hyperparameter tuning.**\n",
    "\n",
    "**Changed Data Type – Converted the dataset from float64 to float32, cutting memory usage in half.**\n",
    "\n",
    "**Limited the Number of Combinations – Reduced the number of hyperparameter combinations tested, making the process faster and more memory-efficient.**\n",
    "\n",
    "**Optimized Parallel Processing – Set n_jobs=1 to prevent excessive memory consumption.**"
   ]
  },
  {
   "cell_type": "code",
   "execution_count": null,
   "id": "2c3541d3-c283-4110-a7bd-519e4a30245e",
   "metadata": {},
   "outputs": [],
   "source": []
  },
  {
   "cell_type": "code",
   "execution_count": 732,
   "id": "e40bd3a2-e346-42b8-929c-04d9c03198d7",
   "metadata": {
    "scrolled": true
   },
   "outputs": [
    {
     "name": "stdout",
     "output_type": "stream",
     "text": [
      "Fitting 3 folds for each of 5 candidates, totalling 15 fits\n",
      "[CV] END learning_rate=0.1, max_depth=5, n_estimators=50, subsample=0.8; total time=   1.5s\n",
      "[CV] END learning_rate=0.1, max_depth=5, n_estimators=50, subsample=0.8; total time=   1.4s\n",
      "[CV] END learning_rate=0.1, max_depth=5, n_estimators=50, subsample=0.8; total time=   1.3s\n",
      "[CV] END learning_rate=0.05, max_depth=7, n_estimators=100, subsample=0.6; total time=   3.6s\n",
      "[CV] END learning_rate=0.05, max_depth=7, n_estimators=100, subsample=0.6; total time=   3.5s\n",
      "[CV] END learning_rate=0.05, max_depth=7, n_estimators=100, subsample=0.6; total time=   3.5s\n",
      "[CV] END learning_rate=0.01, max_depth=7, n_estimators=200, subsample=1.0; total time=   6.3s\n",
      "[CV] END learning_rate=0.01, max_depth=7, n_estimators=200, subsample=1.0; total time=   6.0s\n",
      "[CV] END learning_rate=0.01, max_depth=7, n_estimators=200, subsample=1.0; total time=   5.9s\n",
      "[CV] END learning_rate=0.1, max_depth=5, n_estimators=200, subsample=1.0; total time=   3.6s\n",
      "[CV] END learning_rate=0.1, max_depth=5, n_estimators=200, subsample=1.0; total time=   3.4s\n",
      "[CV] END learning_rate=0.1, max_depth=5, n_estimators=200, subsample=1.0; total time=   3.4s\n",
      "[CV] END learning_rate=0.01, max_depth=3, n_estimators=50, subsample=0.6; total time=   1.0s\n",
      "[CV] END learning_rate=0.01, max_depth=3, n_estimators=50, subsample=0.6; total time=   1.0s\n",
      "[CV] END learning_rate=0.01, max_depth=3, n_estimators=50, subsample=0.6; total time=   1.0s\n",
      "Epoch 1/50\n",
      "\u001b[1m38180/38180\u001b[0m \u001b[32m━━━━━━━━━━━━━━━━━━━━\u001b[0m\u001b[37m\u001b[0m \u001b[1m89s\u001b[0m 2ms/step - loss: 1.4996e-05 - val_loss: 7.3719e-06\n",
      "Epoch 2/50\n",
      "\u001b[1m38180/38180\u001b[0m \u001b[32m━━━━━━━━━━━━━━━━━━━━\u001b[0m\u001b[37m\u001b[0m \u001b[1m85s\u001b[0m 2ms/step - loss: 5.4038e-06 - val_loss: 6.5522e-06\n",
      "Epoch 3/50\n",
      "\u001b[1m38180/38180\u001b[0m \u001b[32m━━━━━━━━━━━━━━━━━━━━\u001b[0m\u001b[37m\u001b[0m \u001b[1m88s\u001b[0m 2ms/step - loss: 4.0857e-06 - val_loss: 6.4518e-06\n",
      "Epoch 4/50\n",
      "\u001b[1m38180/38180\u001b[0m \u001b[32m━━━━━━━━━━━━━━━━━━━━\u001b[0m\u001b[37m\u001b[0m \u001b[1m86s\u001b[0m 2ms/step - loss: 3.5946e-06 - val_loss: 7.1735e-06\n",
      "Epoch 5/50\n",
      "\u001b[1m38180/38180\u001b[0m \u001b[32m━━━━━━━━━━━━━━━━━━━━\u001b[0m\u001b[37m\u001b[0m \u001b[1m85s\u001b[0m 2ms/step - loss: 3.4194e-06 - val_loss: 7.2497e-06\n",
      "Epoch 6/50\n",
      "\u001b[1m38180/38180\u001b[0m \u001b[32m━━━━━━━━━━━━━━━━━━━━\u001b[0m\u001b[37m\u001b[0m \u001b[1m87s\u001b[0m 2ms/step - loss: 3.3148e-06 - val_loss: 8.2183e-06\n",
      "Epoch 7/50\n",
      "\u001b[1m38180/38180\u001b[0m \u001b[32m━━━━━━━━━━━━━━━━━━━━\u001b[0m\u001b[37m\u001b[0m \u001b[1m89s\u001b[0m 2ms/step - loss: 3.1610e-06 - val_loss: 5.5767e-06\n",
      "Epoch 8/50\n",
      "\u001b[1m38180/38180\u001b[0m \u001b[32m━━━━━━━━━━━━━━━━━━━━\u001b[0m\u001b[37m\u001b[0m \u001b[1m92s\u001b[0m 2ms/step - loss: 2.9079e-06 - val_loss: 6.3886e-06\n",
      "Epoch 9/50\n",
      "\u001b[1m38180/38180\u001b[0m \u001b[32m━━━━━━━━━━━━━━━━━━━━\u001b[0m\u001b[37m\u001b[0m \u001b[1m92s\u001b[0m 2ms/step - loss: 2.7467e-06 - val_loss: 6.7236e-06\n",
      "Epoch 10/50\n",
      "\u001b[1m38180/38180\u001b[0m \u001b[32m━━━━━━━━━━━━━━━━━━━━\u001b[0m\u001b[37m\u001b[0m \u001b[1m91s\u001b[0m 2ms/step - loss: 2.7717e-06 - val_loss: 6.3137e-06\n",
      "Epoch 11/50\n",
      "\u001b[1m38180/38180\u001b[0m \u001b[32m━━━━━━━━━━━━━━━━━━━━\u001b[0m\u001b[37m\u001b[0m \u001b[1m91s\u001b[0m 2ms/step - loss: 2.8656e-06 - val_loss: 6.6759e-06\n",
      "Epoch 12/50\n",
      "\u001b[1m38180/38180\u001b[0m \u001b[32m━━━━━━━━━━━━━━━━━━━━\u001b[0m\u001b[37m\u001b[0m \u001b[1m92s\u001b[0m 2ms/step - loss: 2.9571e-06 - val_loss: 5.5631e-06\n",
      "Epoch 13/50\n",
      "\u001b[1m38180/38180\u001b[0m \u001b[32m━━━━━━━━━━━━━━━━━━━━\u001b[0m\u001b[37m\u001b[0m \u001b[1m91s\u001b[0m 2ms/step - loss: 2.5890e-06 - val_loss: 6.4239e-06\n",
      "Epoch 14/50\n",
      "\u001b[1m38180/38180\u001b[0m \u001b[32m━━━━━━━━━━━━━━━━━━━━\u001b[0m\u001b[37m\u001b[0m \u001b[1m92s\u001b[0m 2ms/step - loss: 2.8353e-06 - val_loss: 6.1146e-06\n",
      "Epoch 15/50\n",
      "\u001b[1m38180/38180\u001b[0m \u001b[32m━━━━━━━━━━━━━━━━━━━━\u001b[0m\u001b[37m\u001b[0m \u001b[1m129s\u001b[0m 3ms/step - loss: 2.5495e-06 - val_loss: 5.8951e-06\n",
      "Epoch 16/50\n",
      "\u001b[1m38180/38180\u001b[0m \u001b[32m━━━━━━━━━━━━━━━━━━━━\u001b[0m\u001b[37m\u001b[0m \u001b[1m133s\u001b[0m 3ms/step - loss: 2.7284e-06 - val_loss: 5.5565e-06\n",
      "Epoch 17/50\n",
      "\u001b[1m38180/38180\u001b[0m \u001b[32m━━━━━━━━━━━━━━━━━━━━\u001b[0m\u001b[37m\u001b[0m \u001b[1m130s\u001b[0m 3ms/step - loss: 3.0396e-06 - val_loss: 5.9742e-06\n",
      "Epoch 18/50\n",
      "\u001b[1m38180/38180\u001b[0m \u001b[32m━━━━━━━━━━━━━━━━━━━━\u001b[0m\u001b[37m\u001b[0m \u001b[1m134s\u001b[0m 3ms/step - loss: 2.3639e-06 - val_loss: 6.7536e-06\n",
      "Epoch 19/50\n",
      "\u001b[1m38180/38180\u001b[0m \u001b[32m━━━━━━━━━━━━━━━━━━━━\u001b[0m\u001b[37m\u001b[0m \u001b[1m134s\u001b[0m 4ms/step - loss: 2.3061e-06 - val_loss: 5.7926e-06\n",
      "Epoch 20/50\n",
      "\u001b[1m38180/38180\u001b[0m \u001b[32m━━━━━━━━━━━━━━━━━━━━\u001b[0m\u001b[37m\u001b[0m \u001b[1m134s\u001b[0m 4ms/step - loss: 2.3804e-06 - val_loss: 6.1723e-06\n",
      "Epoch 21/50\n",
      "\u001b[1m38180/38180\u001b[0m \u001b[32m━━━━━━━━━━━━━━━━━━━━\u001b[0m\u001b[37m\u001b[0m \u001b[1m130s\u001b[0m 3ms/step - loss: 3.0452e-06 - val_loss: 6.6767e-06\n",
      "\u001b[1m19090/19090\u001b[0m \u001b[32m━━━━━━━━━━━━━━━━━━━━\u001b[0m\u001b[37m\u001b[0m \u001b[1m30s\u001b[0m 2ms/step\n",
      "LSTM - RMSE: 293.98666021476737\n"
     ]
    }
   ],
   "source": [
    "import numpy as np\n",
    "import pandas as pd\n",
    "import xgboost as xgb\n",
    "from sklearn.decomposition import PCA\n",
    "from sklearn.model_selection import RandomizedSearchCV\n",
    "from sklearn.preprocessing import MinMaxScaler\n",
    "from sklearn.metrics import mean_squared_error\n",
    "from tensorflow.keras.models import Sequential\n",
    "from tensorflow.keras.layers import LSTM, Dense, Dropout\n",
    "from tensorflow.keras.callbacks import EarlyStopping\n",
    "\n",
    "# Load dataset (assuming X_train, X_test, y_train, y_test are predefined)\n",
    "\n",
    "# Ensure the data is in float32 format to avoid precision issues\n",
    "X_train = X_train.astype(\"float32\")\n",
    "X_test = X_test.astype(\"float32\")\n",
    "\n",
    "# Scale the features\n",
    "scaler_X = MinMaxScaler()\n",
    "X_train_scaled = scaler_X.fit_transform(X_train)\n",
    "X_test_scaled = scaler_X.transform(X_test)\n",
    "\n",
    "# Scale the target variable\n",
    "scaler_y = MinMaxScaler()\n",
    "y_train = y_train.reshape(-1, 1)  # Corrected reshaping\n",
    "y_test = y_test.reshape(-1, 1)  # Corrected reshaping\n",
    "y_train_scaled = scaler_y.fit_transform(y_train)\n",
    "y_test_scaled = scaler_y.transform(y_test)\n",
    "\n",
    "# Reduce dimensionality with PCA\n",
    "n_components = min(200, X_train_scaled.shape[1])  # Ensure PCA components do not exceed features\n",
    "pca = PCA(n_components=n_components)\n",
    "X_train_pca = pca.fit_transform(X_train_scaled)\n",
    "X_test_pca = pca.transform(X_test_scaled)\n",
    "\n",
    "# Sample only 10% of the dataset for hyperparameter tuning\n",
    "sample_size = int(0.1 * len(X_train_pca))\n",
    "X_train_sample = X_train_pca[:sample_size]\n",
    "y_train_sample = y_train_scaled[:sample_size]\n",
    "\n",
    "# Define XGBoost model and hyperparameter grid\n",
    "xgb_model = xgb.XGBRegressor(objective=\"reg:squarederror\", eval_metric=\"rmse\")\n",
    "param_dist = {\n",
    "    \"n_estimators\": [50, 100, 200],\n",
    "    \"learning_rate\": [0.01, 0.05, 0.1],\n",
    "    \"max_depth\": [3, 5, 7],\n",
    "    \"subsample\": [0.6, 0.8, 1.0]\n",
    "}\n",
    "\n",
    "# Reduce number of hyperparameter iterations\n",
    "random_search = RandomizedSearchCV(\n",
    "    estimator=xgb_model,\n",
    "    param_distributions=param_dist,\n",
    "    n_iter=5,  # Reduce iterations to optimize performance\n",
    "    scoring=\"neg_mean_squared_error\",\n",
    "    cv=3,\n",
    "    verbose=2,\n",
    "    n_jobs=1  # Prevent memory overload\n",
    ")\n",
    "\n",
    "# Fit on reduced dataset\n",
    "random_search.fit(X_train_sample, y_train_sample.ravel())\n",
    "\n",
    "# Reshape for LSTM (samples, timesteps, features)\n",
    "X_train_lstm = np.reshape(X_train_pca, (X_train_pca.shape[0], 1, X_train_pca.shape[1]))\n",
    "X_test_lstm = np.reshape(X_test_pca, (X_test_pca.shape[0], 1, X_test_pca.shape[1]))\n",
    "\n",
    "# Build LSTM model\n",
    "model = Sequential([\n",
    "    LSTM(100, return_sequences=True, input_shape=(1, X_train_pca.shape[1])),\n",
    "    Dropout(0.2),\n",
    "    LSTM(50),\n",
    "    Dropout(0.2),\n",
    "    Dense(25),\n",
    "    Dense(1)\n",
    "])\n",
    "\n",
    "model.compile(optimizer='adam', loss='mse')\n",
    "\n",
    "# Early stopping to prevent overfitting\n",
    "early_stopping = EarlyStopping(monitor='val_loss', patience=5, restore_best_weights=True)\n",
    "\n",
    "# Train the model\n",
    "history = model.fit(\n",
    "    X_train_lstm, y_train_scaled,\n",
    "    validation_data=(X_test_lstm, y_test_scaled),\n",
    "    epochs=50,\n",
    "    batch_size=64,\n",
    "    callbacks=[early_stopping],\n",
    "    verbose=1\n",
    ")\n",
    "\n",
    "# Make predictions\n",
    "y_pred_scaled = model.predict(X_test_lstm)\n",
    "\n",
    "# Inverse transform predictions to get actual sales values\n",
    "y_pred_actual = scaler_y.inverse_transform(y_pred_scaled)\n",
    "\n",
    "# Calculate RMSE\n",
    "rmse = np.sqrt(mean_squared_error(y_test, y_pred_actual))\n",
    "print(f\"LSTM - RMSE: {rmse}\")"
   ]
  },
  {
   "cell_type": "code",
   "execution_count": null,
   "id": "dca38faf-0a87-41ac-a907-a5dd9c7e7c58",
   "metadata": {},
   "outputs": [],
   "source": []
  },
  {
   "cell_type": "code",
   "execution_count": null,
   "id": "3cee255b-eb4c-4a91-b7a5-b1e20a25de60",
   "metadata": {},
   "outputs": [],
   "source": []
  },
  {
   "cell_type": "markdown",
   "id": "bc351f53-ce9d-4e69-bdc5-00983b87b8ac",
   "metadata": {},
   "source": [
    "### Compare Model Performance"
   ]
  },
  {
   "cell_type": "code",
   "execution_count": 734,
   "id": "5bd159a6-06ca-4c43-9519-5e348f83f711",
   "metadata": {},
   "outputs": [
    {
     "name": "stdout",
     "output_type": "stream",
     "text": [
      "Epoch 1/100\n",
      "\u001b[1m4773/4773\u001b[0m \u001b[32m━━━━━━━━━━━━━━━━━━━━\u001b[0m\u001b[37m\u001b[0m \u001b[1m59s\u001b[0m 10ms/step - loss: 1.7029e-05 - val_loss: 8.2586e-06\n",
      "Epoch 2/100\n",
      "\u001b[1m4773/4773\u001b[0m \u001b[32m━━━━━━━━━━━━━━━━━━━━\u001b[0m\u001b[37m\u001b[0m \u001b[1m46s\u001b[0m 10ms/step - loss: 6.5969e-06 - val_loss: 1.8751e-05\n",
      "Epoch 3/100\n",
      "\u001b[1m4773/4773\u001b[0m \u001b[32m━━━━━━━━━━━━━━━━━━━━\u001b[0m\u001b[37m\u001b[0m \u001b[1m47s\u001b[0m 10ms/step - loss: 5.8353e-06 - val_loss: 6.8314e-06\n",
      "Epoch 4/100\n",
      "\u001b[1m4773/4773\u001b[0m \u001b[32m━━━━━━━━━━━━━━━━━━━━\u001b[0m\u001b[37m\u001b[0m \u001b[1m47s\u001b[0m 10ms/step - loss: 4.3264e-06 - val_loss: 7.5953e-06\n",
      "Epoch 5/100\n",
      "\u001b[1m4773/4773\u001b[0m \u001b[32m━━━━━━━━━━━━━━━━━━━━\u001b[0m\u001b[37m\u001b[0m \u001b[1m47s\u001b[0m 10ms/step - loss: 4.2223e-06 - val_loss: 6.4963e-06\n",
      "Epoch 6/100\n",
      "\u001b[1m4773/4773\u001b[0m \u001b[32m━━━━━━━━━━━━━━━━━━━━\u001b[0m\u001b[37m\u001b[0m \u001b[1m47s\u001b[0m 10ms/step - loss: 4.0944e-06 - val_loss: 6.8198e-06\n",
      "Epoch 7/100\n",
      "\u001b[1m4773/4773\u001b[0m \u001b[32m━━━━━━━━━━━━━━━━━━━━\u001b[0m\u001b[37m\u001b[0m \u001b[1m47s\u001b[0m 10ms/step - loss: 4.3609e-06 - val_loss: 7.8887e-06\n",
      "Epoch 8/100\n",
      "\u001b[1m4773/4773\u001b[0m \u001b[32m━━━━━━━━━━━━━━━━━━━━\u001b[0m\u001b[37m\u001b[0m \u001b[1m47s\u001b[0m 10ms/step - loss: 3.6942e-06 - val_loss: 6.2624e-06\n",
      "Epoch 9/100\n",
      "\u001b[1m4773/4773\u001b[0m \u001b[32m━━━━━━━━━━━━━━━━━━━━\u001b[0m\u001b[37m\u001b[0m \u001b[1m47s\u001b[0m 10ms/step - loss: 3.4783e-06 - val_loss: 6.0749e-06\n",
      "Epoch 10/100\n",
      "\u001b[1m4773/4773\u001b[0m \u001b[32m━━━━━━━━━━━━━━━━━━━━\u001b[0m\u001b[37m\u001b[0m \u001b[1m47s\u001b[0m 10ms/step - loss: 3.5810e-06 - val_loss: 6.2573e-06\n",
      "Epoch 11/100\n",
      "\u001b[1m4773/4773\u001b[0m \u001b[32m━━━━━━━━━━━━━━━━━━━━\u001b[0m\u001b[37m\u001b[0m \u001b[1m47s\u001b[0m 10ms/step - loss: 3.7591e-06 - val_loss: 6.1340e-06\n",
      "Epoch 12/100\n",
      "\u001b[1m4773/4773\u001b[0m \u001b[32m━━━━━━━━━━━━━━━━━━━━\u001b[0m\u001b[37m\u001b[0m \u001b[1m47s\u001b[0m 10ms/step - loss: 3.2553e-06 - val_loss: 6.2823e-06\n",
      "Epoch 13/100\n",
      "\u001b[1m4773/4773\u001b[0m \u001b[32m━━━━━━━━━━━━━━━━━━━━\u001b[0m\u001b[37m\u001b[0m \u001b[1m47s\u001b[0m 10ms/step - loss: 3.3555e-06 - val_loss: 5.7978e-06\n",
      "Epoch 14/100\n",
      "\u001b[1m4773/4773\u001b[0m \u001b[32m━━━━━━━━━━━━━━━━━━━━\u001b[0m\u001b[37m\u001b[0m \u001b[1m47s\u001b[0m 10ms/step - loss: 3.3948e-06 - val_loss: 6.8194e-06\n",
      "Epoch 15/100\n",
      "\u001b[1m4773/4773\u001b[0m \u001b[32m━━━━━━━━━━━━━━━━━━━━\u001b[0m\u001b[37m\u001b[0m \u001b[1m47s\u001b[0m 10ms/step - loss: 3.1809e-06 - val_loss: 6.4044e-06\n",
      "Epoch 16/100\n",
      "\u001b[1m4773/4773\u001b[0m \u001b[32m━━━━━━━━━━━━━━━━━━━━\u001b[0m\u001b[37m\u001b[0m \u001b[1m47s\u001b[0m 10ms/step - loss: 3.1636e-06 - val_loss: 5.3122e-06\n",
      "Epoch 17/100\n",
      "\u001b[1m4773/4773\u001b[0m \u001b[32m━━━━━━━━━━━━━━━━━━━━\u001b[0m\u001b[37m\u001b[0m \u001b[1m47s\u001b[0m 10ms/step - loss: 3.0510e-06 - val_loss: 7.2877e-06\n",
      "Epoch 18/100\n",
      "\u001b[1m4773/4773\u001b[0m \u001b[32m━━━━━━━━━━━━━━━━━━━━\u001b[0m\u001b[37m\u001b[0m \u001b[1m47s\u001b[0m 10ms/step - loss: 3.3780e-06 - val_loss: 5.6186e-06\n",
      "Epoch 19/100\n",
      "\u001b[1m4773/4773\u001b[0m \u001b[32m━━━━━━━━━━━━━━━━━━━━\u001b[0m\u001b[37m\u001b[0m \u001b[1m47s\u001b[0m 10ms/step - loss: 3.0567e-06 - val_loss: 5.3775e-06\n",
      "Epoch 20/100\n",
      "\u001b[1m4773/4773\u001b[0m \u001b[32m━━━━━━━━━━━━━━━━━━━━\u001b[0m\u001b[37m\u001b[0m \u001b[1m47s\u001b[0m 10ms/step - loss: 2.8791e-06 - val_loss: 5.7826e-06\n",
      "Epoch 21/100\n",
      "\u001b[1m4773/4773\u001b[0m \u001b[32m━━━━━━━━━━━━━━━━━━━━\u001b[0m\u001b[37m\u001b[0m \u001b[1m48s\u001b[0m 10ms/step - loss: 3.0719e-06 - val_loss: 5.5698e-06\n",
      "Epoch 22/100\n",
      "\u001b[1m4773/4773\u001b[0m \u001b[32m━━━━━━━━━━━━━━━━━━━━\u001b[0m\u001b[37m\u001b[0m \u001b[1m47s\u001b[0m 10ms/step - loss: 2.8793e-06 - val_loss: 5.3803e-06\n",
      "Epoch 23/100\n",
      "\u001b[1m4773/4773\u001b[0m \u001b[32m━━━━━━━━━━━━━━━━━━━━\u001b[0m\u001b[37m\u001b[0m \u001b[1m48s\u001b[0m 10ms/step - loss: 3.1092e-06 - val_loss: 6.2562e-06\n",
      "Epoch 24/100\n",
      "\u001b[1m4773/4773\u001b[0m \u001b[32m━━━━━━━━━━━━━━━━━━━━\u001b[0m\u001b[37m\u001b[0m \u001b[1m48s\u001b[0m 10ms/step - loss: 2.9395e-06 - val_loss: 5.6514e-06\n",
      "Epoch 25/100\n",
      "\u001b[1m4773/4773\u001b[0m \u001b[32m━━━━━━━━━━━━━━━━━━━━\u001b[0m\u001b[37m\u001b[0m \u001b[1m47s\u001b[0m 10ms/step - loss: 3.0268e-06 - val_loss: 5.7375e-06\n",
      "Epoch 26/100\n",
      "\u001b[1m4773/4773\u001b[0m \u001b[32m━━━━━━━━━━━━━━━━━━━━\u001b[0m\u001b[37m\u001b[0m \u001b[1m46s\u001b[0m 10ms/step - loss: 3.2725e-06 - val_loss: 5.3115e-06\n",
      "Epoch 27/100\n",
      "\u001b[1m4773/4773\u001b[0m \u001b[32m━━━━━━━━━━━━━━━━━━━━\u001b[0m\u001b[37m\u001b[0m \u001b[1m48s\u001b[0m 10ms/step - loss: 2.7008e-06 - val_loss: 5.7843e-06\n",
      "Epoch 28/100\n",
      "\u001b[1m4773/4773\u001b[0m \u001b[32m━━━━━━━━━━━━━━━━━━━━\u001b[0m\u001b[37m\u001b[0m \u001b[1m48s\u001b[0m 10ms/step - loss: 2.7657e-06 - val_loss: 5.2536e-06\n",
      "Epoch 29/100\n",
      "\u001b[1m4773/4773\u001b[0m \u001b[32m━━━━━━━━━━━━━━━━━━━━\u001b[0m\u001b[37m\u001b[0m \u001b[1m47s\u001b[0m 10ms/step - loss: 2.6000e-06 - val_loss: 5.2578e-06\n",
      "Epoch 30/100\n",
      "\u001b[1m4773/4773\u001b[0m \u001b[32m━━━━━━━━━━━━━━━━━━━━\u001b[0m\u001b[37m\u001b[0m \u001b[1m47s\u001b[0m 10ms/step - loss: 2.6245e-06 - val_loss: 5.1447e-06\n",
      "Epoch 31/100\n",
      "\u001b[1m4773/4773\u001b[0m \u001b[32m━━━━━━━━━━━━━━━━━━━━\u001b[0m\u001b[37m\u001b[0m \u001b[1m47s\u001b[0m 10ms/step - loss: 2.6313e-06 - val_loss: 5.4096e-06\n",
      "Epoch 32/100\n",
      "\u001b[1m4773/4773\u001b[0m \u001b[32m━━━━━━━━━━━━━━━━━━━━\u001b[0m\u001b[37m\u001b[0m \u001b[1m47s\u001b[0m 10ms/step - loss: 2.4738e-06 - val_loss: 5.2356e-06\n",
      "Epoch 33/100\n",
      "\u001b[1m4773/4773\u001b[0m \u001b[32m━━━━━━━━━━━━━━━━━━━━\u001b[0m\u001b[37m\u001b[0m \u001b[1m47s\u001b[0m 10ms/step - loss: 2.5158e-06 - val_loss: 8.9120e-06\n",
      "Epoch 34/100\n",
      "\u001b[1m4773/4773\u001b[0m \u001b[32m━━━━━━━━━━━━━━━━━━━━\u001b[0m\u001b[37m\u001b[0m \u001b[1m47s\u001b[0m 10ms/step - loss: 2.4761e-06 - val_loss: 5.1118e-06\n",
      "Epoch 35/100\n",
      "\u001b[1m4773/4773\u001b[0m \u001b[32m━━━━━━━━━━━━━━━━━━━━\u001b[0m\u001b[37m\u001b[0m \u001b[1m47s\u001b[0m 10ms/step - loss: 2.5242e-06 - val_loss: 5.6223e-06\n",
      "Epoch 36/100\n",
      "\u001b[1m4773/4773\u001b[0m \u001b[32m━━━━━━━━━━━━━━━━━━━━\u001b[0m\u001b[37m\u001b[0m \u001b[1m47s\u001b[0m 10ms/step - loss: 2.4867e-06 - val_loss: 5.1622e-06\n",
      "Epoch 37/100\n",
      "\u001b[1m4773/4773\u001b[0m \u001b[32m━━━━━━━━━━━━━━━━━━━━\u001b[0m\u001b[37m\u001b[0m \u001b[1m46s\u001b[0m 10ms/step - loss: 2.3843e-06 - val_loss: 5.0616e-06\n",
      "Epoch 38/100\n",
      "\u001b[1m4773/4773\u001b[0m \u001b[32m━━━━━━━━━━━━━━━━━━━━\u001b[0m\u001b[37m\u001b[0m \u001b[1m55s\u001b[0m 12ms/step - loss: 2.4261e-06 - val_loss: 5.4863e-06\n",
      "Epoch 39/100\n",
      "\u001b[1m4773/4773\u001b[0m \u001b[32m━━━━━━━━━━━━━━━━━━━━\u001b[0m\u001b[37m\u001b[0m \u001b[1m67s\u001b[0m 14ms/step - loss: 2.3405e-06 - val_loss: 5.0877e-06\n",
      "Epoch 40/100\n",
      "\u001b[1m4773/4773\u001b[0m \u001b[32m━━━━━━━━━━━━━━━━━━━━\u001b[0m\u001b[37m\u001b[0m \u001b[1m66s\u001b[0m 14ms/step - loss: 2.4311e-06 - val_loss: 5.1842e-06\n",
      "Epoch 41/100\n",
      "\u001b[1m4773/4773\u001b[0m \u001b[32m━━━━━━━━━━━━━━━━━━━━\u001b[0m\u001b[37m\u001b[0m \u001b[1m67s\u001b[0m 14ms/step - loss: 2.3761e-06 - val_loss: 4.6792e-06\n",
      "Epoch 42/100\n",
      "\u001b[1m4773/4773\u001b[0m \u001b[32m━━━━━━━━━━━━━━━━━━━━\u001b[0m\u001b[37m\u001b[0m \u001b[1m67s\u001b[0m 14ms/step - loss: 2.3568e-06 - val_loss: 4.9471e-06\n",
      "Epoch 43/100\n",
      "\u001b[1m4773/4773\u001b[0m \u001b[32m━━━━━━━━━━━━━━━━━━━━\u001b[0m\u001b[37m\u001b[0m \u001b[1m67s\u001b[0m 14ms/step - loss: 2.3283e-06 - val_loss: 4.9232e-06\n",
      "Epoch 44/100\n",
      "\u001b[1m4773/4773\u001b[0m \u001b[32m━━━━━━━━━━━━━━━━━━━━\u001b[0m\u001b[37m\u001b[0m \u001b[1m67s\u001b[0m 14ms/step - loss: 2.5034e-06 - val_loss: 4.7232e-06\n",
      "Epoch 45/100\n",
      "\u001b[1m4773/4773\u001b[0m \u001b[32m━━━━━━━━━━━━━━━━━━━━\u001b[0m\u001b[37m\u001b[0m \u001b[1m67s\u001b[0m 14ms/step - loss: 2.3210e-06 - val_loss: 5.5450e-06\n",
      "Epoch 46/100\n",
      "\u001b[1m4773/4773\u001b[0m \u001b[32m━━━━━━━━━━━━━━━━━━━━\u001b[0m\u001b[37m\u001b[0m \u001b[1m67s\u001b[0m 14ms/step - loss: 2.2077e-06 - val_loss: 5.6635e-06\n",
      "Epoch 47/100\n",
      "\u001b[1m4773/4773\u001b[0m \u001b[32m━━━━━━━━━━━━━━━━━━━━\u001b[0m\u001b[37m\u001b[0m \u001b[1m67s\u001b[0m 14ms/step - loss: 2.3102e-06 - val_loss: 5.1788e-06\n",
      "Epoch 48/100\n",
      "\u001b[1m4773/4773\u001b[0m \u001b[32m━━━━━━━━━━━━━━━━━━━━\u001b[0m\u001b[37m\u001b[0m \u001b[1m67s\u001b[0m 14ms/step - loss: 2.3666e-06 - val_loss: 4.9955e-06\n",
      "Epoch 49/100\n",
      "\u001b[1m4773/4773\u001b[0m \u001b[32m━━━━━━━━━━━━━━━━━━━━\u001b[0m\u001b[37m\u001b[0m \u001b[1m69s\u001b[0m 14ms/step - loss: 2.3647e-06 - val_loss: 5.3882e-06\n",
      "Epoch 50/100\n",
      "\u001b[1m4773/4773\u001b[0m \u001b[32m━━━━━━━━━━━━━━━━━━━━\u001b[0m\u001b[37m\u001b[0m \u001b[1m61s\u001b[0m 13ms/step - loss: 2.2237e-06 - val_loss: 5.3486e-06\n",
      "Epoch 51/100\n",
      "\u001b[1m4773/4773\u001b[0m \u001b[32m━━━━━━━━━━━━━━━━━━━━\u001b[0m\u001b[37m\u001b[0m \u001b[1m32s\u001b[0m 7ms/step - loss: 2.3827e-06 - val_loss: 5.4758e-06\n",
      "\u001b[1m19090/19090\u001b[0m \u001b[32m━━━━━━━━━━━━━━━━━━━━\u001b[0m\u001b[37m\u001b[0m \u001b[1m20s\u001b[0m 1ms/step\n"
     ]
    }
   ],
   "source": [
    "import numpy as np\n",
    "import pandas as pd\n",
    "from sklearn.ensemble import RandomForestRegressor\n",
    "from sklearn.metrics import mean_squared_error, mean_absolute_error, r2_score\n",
    "import xgboost as xgb\n",
    "from tensorflow.keras.models import Sequential\n",
    "from tensorflow.keras.layers import LSTM, Dense, Dropout\n",
    "from tensorflow.keras.callbacks import EarlyStopping\n",
    "from sklearn.preprocessing import MinMaxScaler\n",
    "\n",
    "# Train and test datasets (Assuming X_train, X_test, y_train, y_test are already defined)\n",
    "\n",
    "# Train Random Forest Model\n",
    "rf_model = RandomForestRegressor(n_estimators=100, random_state=42, n_jobs=-1)\n",
    "rf_model.fit(X_train, y_train)\n",
    "rf_preds = rf_model.predict(X_test)\n",
    "rmse_rf = mean_squared_error(y_test, rf_preds, squared=False)\n",
    "mae_rf = mean_absolute_error(y_test, rf_preds)\n",
    "r2_rf = r2_score(y_test, rf_preds)\n",
    "\n",
    "# Train XGBoost Model\n",
    "xgb_model = xgb.XGBRegressor(n_estimators=100, learning_rate=0.1, random_state=42)\n",
    "xgb_model.fit(X_train, y_train)\n",
    "xgb_preds = xgb_model.predict(X_test)\n",
    "rmse_xgb = mean_squared_error(y_test, xgb_preds, squared=False)\n",
    "mae_xgb = mean_absolute_error(y_test, xgb_preds)\n",
    "r2_xgb = r2_score(y_test, xgb_preds)\n",
    "\n",
    "# Train LSTM Model\n",
    "scaler_X = MinMaxScaler()\n",
    "X_train_scaled = scaler_X.fit_transform(X_train)\n",
    "X_test_scaled = scaler_X.transform(X_test)\n",
    "scaler_y = MinMaxScaler()\n",
    "y_train_scaled = scaler_y.fit_transform(np.array(y_train).reshape(-1, 1))\n",
    "y_test_scaled = scaler_y.transform(np.array(y_test).reshape(-1, 1))\n",
    "X_train_lstm = X_train_scaled.reshape((X_train_scaled.shape[0], 1, X_train_scaled.shape[1]))\n",
    "X_test_lstm = X_test_scaled.reshape((X_test_scaled.shape[0], 1, X_test_scaled.shape[1]))\n",
    "\n",
    "model = Sequential([\n",
    "    LSTM(128, return_sequences=True, input_shape=(X_train_lstm.shape[1], X_train_lstm.shape[2])),\n",
    "    Dropout(0.3),\n",
    "    LSTM(64, return_sequences=False),\n",
    "    Dropout(0.3),\n",
    "    Dense(32, activation='relu'),\n",
    "    Dense(1)\n",
    "])\n",
    "model.compile(optimizer='adam', loss='mse')\n",
    "early_stopping = EarlyStopping(monitor='val_loss', patience=10, restore_best_weights=True)\n",
    "model.fit(X_train_lstm, y_train_scaled, validation_data=(X_test_lstm, y_test_scaled), epochs=100, batch_size=512, callbacks=[early_stopping], verbose=1)\n",
    "y_pred_scaled = model.predict(X_test_lstm)\n",
    "y_pred_actual = scaler_y.inverse_transform(y_pred_scaled)\n",
    "rmse_lstm = np.sqrt(mean_squared_error(y_test, y_pred_actual))"
   ]
  },
  {
   "cell_type": "code",
   "execution_count": null,
   "id": "e57beba6-66da-4598-af12-56806489c4c2",
   "metadata": {},
   "outputs": [],
   "source": []
  },
  {
   "cell_type": "code",
   "execution_count": 735,
   "id": "54c6f80c-9ba7-46a1-a8cb-c67918748230",
   "metadata": {},
   "outputs": [
    {
     "name": "stdout",
     "output_type": "stream",
     "text": [
      "           Model        RMSE        MAE  R2 Score\n",
      "0  Random Forest  198.588188  45.598100  0.978846\n",
      "1        XGBoost  304.161669  82.102386  0.950376\n",
      "2           LSTM  269.780841        NaN       NaN\n"
     ]
    }
   ],
   "source": [
    "# Model Comparison\n",
    "results = pd.DataFrame({\n",
    "    \"Model\": [\"Random Forest\", \"XGBoost\", \"LSTM\"],\n",
    "    \"RMSE\": [rmse_rf, rmse_xgb, rmse_lstm],\n",
    "    \"MAE\": [mae_rf, mae_xgb, None],  # LSTM MAE is not computed\n",
    "    \"R2 Score\": [r2_rf, r2_xgb, None]  # LSTM R2 Score is not computed\n",
    "})\n",
    "print(results)"
   ]
  },
  {
   "cell_type": "code",
   "execution_count": null,
   "id": "5325abd3-cc10-459a-9609-751f19a791c2",
   "metadata": {},
   "outputs": [],
   "source": []
  },
  {
   "cell_type": "code",
   "execution_count": null,
   "id": "e3401793-6bce-458f-a15b-0e414d01c91c",
   "metadata": {},
   "outputs": [],
   "source": []
  },
  {
   "cell_type": "code",
   "execution_count": 795,
   "id": "115b4b65-810e-440c-bb69-95bf3d85cc16",
   "metadata": {},
   "outputs": [
    {
     "name": "stdout",
     "output_type": "stream",
     "text": [
      " Submission file saved. Shape: (28512, 2)\n"
     ]
    }
   ],
   "source": [
    "import pandas as pd\n",
    "\n",
    "# Load test dataset (ensure it matches training features)\n",
    "X_test_final = test_data.drop(columns=[\"id\"])  # Remove 'id' from features\n",
    "\n",
    "# Ensure test set has the same feature encoding as training\n",
    "missing_cols = set(X_train.columns) - set(X_test_final.columns)  # Find missing columns\n",
    "for col in missing_cols:\n",
    "    X_test_final[col] = 0  # Add missing columns with default value\n",
    "\n",
    "# Ensure column order matches training data\n",
    "X_test_final = X_test_final[X_train.columns]  \n",
    "\n",
    "# Generate Predictions using Random Forest\n",
    "test_data[\"sales\"] = rf_model.predict(X_test_final)\n",
    "\n",
    "# Ensure non-negative values\n",
    "test_data[\"sales\"] = test_data[\"sales\"].clip(0)\n",
    "\n",
    "# Select only 'id' and 'sales' for submission\n",
    "submission_df = test_data[[\"id\", \"sales\"]]\n",
    "\n",
    "# Save submission file\n",
    "submission_df.to_csv(\"submission.csv\", index=False)\n",
    "\n",
    "print(f\" Submission file saved. Shape: {submission_df.shape}\")"
   ]
  },
  {
   "cell_type": "code",
   "execution_count": null,
   "id": "d9cfb3f5-84e1-408f-b12e-ada7ca8104c0",
   "metadata": {},
   "outputs": [],
   "source": []
  },
  {
   "cell_type": "markdown",
   "id": "1ea669ae-be7e-435d-ab08-901109942b45",
   "metadata": {},
   "source": [
    "**This code is basically taking the test dataset, making sure it matches the format of the training data, generating sales predictions using the Random Forest model, and then saving the results in a proper submission file.**\n",
    "\n",
    "**One of the common issues when working with machine learning models is that the test data might not have the exact same features as the training data. This usually happens when categorical variables were converted into multiple columns (one-hot encoding), and some categories might be missing in the test set. To fix this, the code first checks for any missing columns and adds them with default values (0). It also makes sure that the order of columns in the test dataset is the same as in the training dataset—otherwise, the model might get confused and give incorrect results.**\n",
    "\n",
    "**Once the data is properly formatted, the code uses the trained Random Forest model to predict sales values. Since sales can’t be negative, any negative predictions are set to 0 just to be safe. Finally, it prepares the submission file by keeping only the \"id\" and \"sales\" columns and saves it as \"submission.csv\". A final print statement confirms that everything went smoothly by displaying the shape of the file.**\n",
    "\n",
    "**The main challenges here were handling feature mismatches (ensuring all required columns are present), making sure the column order is correct, and dealing with negative predictions. By taking care of these, the code ensures that the final predictions are in the right format and ready for submission.**"
   ]
  },
  {
   "cell_type": "code",
   "execution_count": null,
   "id": "da7bb0c5-6400-4347-9ffb-9aee63cdd061",
   "metadata": {},
   "outputs": [],
   "source": []
  }
 ],
 "metadata": {
  "kernelspec": {
   "display_name": "Python 3 (ipykernel)",
   "language": "python",
   "name": "python3"
  },
  "language_info": {
   "codemirror_mode": {
    "name": "ipython",
    "version": 3
   },
   "file_extension": ".py",
   "mimetype": "text/x-python",
   "name": "python",
   "nbconvert_exporter": "python",
   "pygments_lexer": "ipython3",
   "version": "3.12.3"
  }
 },
 "nbformat": 4,
 "nbformat_minor": 5
}
